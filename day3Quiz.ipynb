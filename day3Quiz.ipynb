{
 "cells": [
  {
   "cell_type": "markdown",
   "metadata": {},
   "source": [
    "# Day 3 Quiz"
   ]
  },
  {
   "cell_type": "markdown",
   "metadata": {},
   "source": [
    "#### *If you are using Google Colab ONLY, run this line:*"
   ]
  },
  {
   "cell_type": "code",
   "execution_count": null,
   "metadata": {},
   "outputs": [],
   "source": [
    "!wget https://raw.githubusercontent.com/nuitrcs/pythonBootcamp_4Day/main/DNAresults.csv\n",
    "!wget https://raw.githubusercontent.com/nuitrcs/pythonBootcamp_4Day/main/class_grades.txt\n",
    "!wget https://raw.githubusercontent.com/nuitrcs/pythonBootcamp_4Day/main/alice.txt"
   ]
  },
  {
   "cell_type": "markdown",
   "metadata": {},
   "source": [
    "1. Correct the errors in this code. It's ok to run the code first to see the error message:"
   ]
  },
  {
   "cell_type": "code",
   "execution_count": 3,
   "metadata": {},
   "outputs": [
    {
     "name": "stdout",
     "output_type": "stream",
     "text": [
      "{'Elmyra Duff': 'Human', 'Hamton J. Pig': 'Pig', 'Babs Bunny': 'Rabbit', 'Buster Bunny': 'Rabbit', 'Plucky Duck': 'Duck', 'Montana Max': 'Human', 'Fifi La Fume': 'Skunk'}\n"
     ]
    }
   ],
   "source": [
    "tiny_toons = {\"Elmyra Duff\": \"Human\", \"Hamton J. Pig\": \"Pig\", \n",
    "              \"Babs Bunny\": \"Rabbit\", \"Buster Bunny\": \"Rabbit\", \n",
    "              \"Plucky Duck\": \"Duck\", \"Montana Max\":\"Human\", \n",
    "              \"Fifi La Fume\":\"Skunk\"}\n",
    "\n",
    "print(tiny_toons)"
   ]
  },
  {
   "cell_type": "markdown",
   "metadata": {},
   "source": [
    "2. Correct the errors in this code. It's ok to run the code first to see the error message:"
   ]
  },
  {
   "cell_type": "code",
   "execution_count": 6,
   "metadata": {},
   "outputs": [
    {
     "name": "stdout",
     "output_type": "stream",
     "text": [
      "Alice was beginning to get very tired of sitting by her sister on the bank, and of having nothing to do: once or twice she had peeped into the book her sister was reading, but it had no pictures or conversations in it, \"and what is the use of a book,\" thought Alice, \"without pictures or conversations?\"\n",
      "\n"
     ]
    }
   ],
   "source": [
    "with open('alice.txt', \"r\") as f:\n",
    "    print(f.readlines()[0])"
   ]
  },
  {
   "cell_type": "markdown",
   "metadata": {},
   "source": [
    "3. Correct the errors in this code. It's ok to run the code first to see the error message:"
   ]
  },
  {
   "cell_type": "code",
   "execution_count": 8,
   "metadata": {},
   "outputs": [
    {
     "data": {
      "text/plain": [
       "26.07"
      ]
     },
     "execution_count": 8,
     "metadata": {},
     "output_type": "execute_result"
    }
   ],
   "source": [
    "def milesToNaut(miles):\n",
    "    naut = round(miles * 0.868976, 2)\n",
    "    return naut\n",
    "\n",
    "milesToNaut(30)"
   ]
  },
  {
   "cell_type": "markdown",
   "metadata": {},
   "source": [
    "4. Make an empty list called `class_list`. Write code to open the file \"class_grades.txt\" and append each line to the `class_list` list with the new line characters removed from the ends of the lines:"
   ]
  },
  {
   "cell_type": "code",
   "execution_count": 9,
   "metadata": {},
   "outputs": [],
   "source": [
    "class_list = []"
   ]
  },
  {
   "cell_type": "code",
   "execution_count": 10,
   "metadata": {},
   "outputs": [],
   "source": [
    "with open('class_grades.txt', 'r') as f:\n",
    "    for line in f:\n",
    "        class_list.append(line.rstrip(\"\\n\"))"
   ]
  },
  {
   "cell_type": "code",
   "execution_count": 11,
   "metadata": {},
   "outputs": [
    {
     "name": "stdout",
     "output_type": "stream",
     "text": [
      "['Never gonna give you up', 'Never gonna let you down', 'Never gonna run around and desert you', 'Never gonna make you cry', 'Never gonna say goodbye', 'Never gonna tell a lie and hurt you']\n"
     ]
    }
   ],
   "source": [
    "print(class_list)"
   ]
  },
  {
   "cell_type": "markdown",
   "metadata": {},
   "source": [
    "5. I've written code below to show you what the file `DNAresults.csv` looks like. Decide how you would like to store this data - as a list of lists, a dictionary, a list of dictionaries, or a dictionary of dictionaries. Write down the steps you will need to do to transform the data into your structure of choice, and then try to write the code."
   ]
  },
  {
   "cell_type": "code",
   "execution_count": 13,
   "metadata": {},
   "outputs": [
    {
     "name": "stdout",
     "output_type": "stream",
     "text": [
      "well,sample,site,result\n",
      "\n",
      "1,DNA1,A1847,present\n",
      "\n",
      "2,DNA2,A1847,present\n",
      "\n",
      "3,DNA3,A1847,absent\n",
      "\n",
      "4,DNA4,A1847,absent\n",
      "\n",
      "5,DNA5,A1847,absent\n",
      "\n",
      "6,DNA6,A1847,present\n",
      "\n",
      "7,DNA7,A1847,present\n",
      "\n",
      "8,DNA8,A1847,absent\n",
      "\n",
      "9,DNA9,A1847,absent\n",
      "\n",
      "10,DNA10,A1847,absent\n",
      "\n",
      "11,DNA11,A1847,absent\n",
      "\n",
      "12,none,A1847,absent\n",
      "\n",
      "13,DNA1,A381,present\n",
      "\n",
      "14,DNA2,A381,absent\n",
      "\n",
      "15,DNA3,A381,present\n",
      "\n",
      "16,DNA4,A381,present\n",
      "\n",
      "17,DNA5,A381,absent\n",
      "\n",
      "18,DNA6,A381,present\n",
      "\n",
      "19,DNA7,A381,present\n",
      "\n",
      "20,DNA8,A381,present\n",
      "\n",
      "21,DNA9,A381,present\n",
      "\n",
      "22,DNA10,A381,absent\n",
      "\n",
      "23,DNA11,A381,absent\n",
      "\n",
      "24,none,A381,absent\n",
      "\n",
      "25,DNA1,B372,absent\n",
      "\n",
      "26,DNA2,B372,absent\n",
      "\n",
      "27,DNA3,B372,present\n",
      "\n",
      "28,DNA4,B372,present\n",
      "\n",
      "29,DNA5,B372,present\n",
      "\n",
      "30,DNA6,B372,present\n",
      "\n",
      "31,DNA7,B372,present\n",
      "\n",
      "32,DNA8,B372,present\n",
      "\n",
      "33,DNA9,B372,present\n",
      "\n",
      "34,DNA10,B372,absent\n",
      "\n",
      "35,DNA11,B372,present\n",
      "\n",
      "36,none,B372,absent\n",
      "\n",
      "37,DNA1,B1827,absent\n",
      "\n",
      "38,DNA2,B1827,present\n",
      "\n",
      "39,DNA3,B1827,present\n",
      "\n",
      "40,DNA4,B1827,absent\n",
      "\n",
      "41,DNA5,B1827,absent\n",
      "\n",
      "42,DNA6,B1827,present\n",
      "\n",
      "43,DNA7,B1827,present\n",
      "\n",
      "44,DNA8,B1827,present\n",
      "\n",
      "45,DNA9,B1827,present\n",
      "\n",
      "46,DNA10,B1827,absent\n",
      "\n",
      "47,DNA11,B1827,present\n",
      "\n",
      "48,none,B1827,absent\n"
     ]
    }
   ],
   "source": [
    "dna_file = \"DNAresults.csv\"\n",
    "with open(dna_file, \"r\") as f:\n",
    "    for line in f.readlines():\n",
    "        print(line)"
   ]
  },
  {
   "cell_type": "code",
   "execution_count": 14,
   "metadata": {},
   "outputs": [
    {
     "name": "stdout",
     "output_type": "stream",
     "text": [
      "[['well', 'sample', 'site', 'result'], ['1', 'DNA1', 'A1847', 'present'], ['2', 'DNA2', 'A1847', 'present'], ['3', 'DNA3', 'A1847', 'absent'], ['4', 'DNA4', 'A1847', 'absent'], ['5', 'DNA5', 'A1847', 'absent'], ['6', 'DNA6', 'A1847', 'present'], ['7', 'DNA7', 'A1847', 'present'], ['8', 'DNA8', 'A1847', 'absent'], ['9', 'DNA9', 'A1847', 'absent'], ['10', 'DNA10', 'A1847', 'absent'], ['11', 'DNA11', 'A1847', 'absent'], ['12', 'none', 'A1847', 'absent'], ['13', 'DNA1', 'A381', 'present'], ['14', 'DNA2', 'A381', 'absent'], ['15', 'DNA3', 'A381', 'present'], ['16', 'DNA4', 'A381', 'present'], ['17', 'DNA5', 'A381', 'absent'], ['18', 'DNA6', 'A381', 'present'], ['19', 'DNA7', 'A381', 'present'], ['20', 'DNA8', 'A381', 'present'], ['21', 'DNA9', 'A381', 'present'], ['22', 'DNA10', 'A381', 'absent'], ['23', 'DNA11', 'A381', 'absent'], ['24', 'none', 'A381', 'absent'], ['25', 'DNA1', 'B372', 'absent'], ['26', 'DNA2', 'B372', 'absent'], ['27', 'DNA3', 'B372', 'present'], ['28', 'DNA4', 'B372', 'present'], ['29', 'DNA5', 'B372', 'present'], ['30', 'DNA6', 'B372', 'present'], ['31', 'DNA7', 'B372', 'present'], ['32', 'DNA8', 'B372', 'present'], ['33', 'DNA9', 'B372', 'present'], ['34', 'DNA10', 'B372', 'absent'], ['35', 'DNA11', 'B372', 'present'], ['36', 'none', 'B372', 'absent'], ['37', 'DNA1', 'B1827', 'absent'], ['38', 'DNA2', 'B1827', 'present'], ['39', 'DNA3', 'B1827', 'present'], ['40', 'DNA4', 'B1827', 'absent'], ['41', 'DNA5', 'B1827', 'absent'], ['42', 'DNA6', 'B1827', 'present'], ['43', 'DNA7', 'B1827', 'present'], ['44', 'DNA8', 'B1827', 'present'], ['45', 'DNA9', 'B1827', 'present'], ['46', 'DNA10', 'B1827', 'absent'], ['47', 'DNA11', 'B1827', 'present'], ['48', 'none', 'B1827', 'absent']]\n"
     ]
    }
   ],
   "source": [
    "#List of lists \n",
    "dna_list = []\n",
    "\n",
    "dna_file = \"DNAresults.csv\"\n",
    "with open(dna_file, \"r\") as f:\n",
    "    for line in f.readlines():\n",
    "        dna_list.append(line.rstrip(\"\\n\").split(\",\"))\n",
    "\n",
    "print(dna_list)"
   ]
  },
  {
   "cell_type": "code",
   "execution_count": 15,
   "metadata": {},
   "outputs": [
    {
     "name": "stdout",
     "output_type": "stream",
     "text": [
      "{'well': ['sample', 'site', 'result'], '1': ['DNA1', 'A1847', 'present'], '2': ['DNA2', 'A1847', 'present'], '3': ['DNA3', 'A1847', 'absent'], '4': ['DNA4', 'A1847', 'absent'], '5': ['DNA5', 'A1847', 'absent'], '6': ['DNA6', 'A1847', 'present'], '7': ['DNA7', 'A1847', 'present'], '8': ['DNA8', 'A1847', 'absent'], '9': ['DNA9', 'A1847', 'absent'], '10': ['DNA10', 'A1847', 'absent'], '11': ['DNA11', 'A1847', 'absent'], '12': ['none', 'A1847', 'absent'], '13': ['DNA1', 'A381', 'present'], '14': ['DNA2', 'A381', 'absent'], '15': ['DNA3', 'A381', 'present'], '16': ['DNA4', 'A381', 'present'], '17': ['DNA5', 'A381', 'absent'], '18': ['DNA6', 'A381', 'present'], '19': ['DNA7', 'A381', 'present'], '20': ['DNA8', 'A381', 'present'], '21': ['DNA9', 'A381', 'present'], '22': ['DNA10', 'A381', 'absent'], '23': ['DNA11', 'A381', 'absent'], '24': ['none', 'A381', 'absent'], '25': ['DNA1', 'B372', 'absent'], '26': ['DNA2', 'B372', 'absent'], '27': ['DNA3', 'B372', 'present'], '28': ['DNA4', 'B372', 'present'], '29': ['DNA5', 'B372', 'present'], '30': ['DNA6', 'B372', 'present'], '31': ['DNA7', 'B372', 'present'], '32': ['DNA8', 'B372', 'present'], '33': ['DNA9', 'B372', 'present'], '34': ['DNA10', 'B372', 'absent'], '35': ['DNA11', 'B372', 'present'], '36': ['none', 'B372', 'absent'], '37': ['DNA1', 'B1827', 'absent'], '38': ['DNA2', 'B1827', 'present'], '39': ['DNA3', 'B1827', 'present'], '40': ['DNA4', 'B1827', 'absent'], '41': ['DNA5', 'B1827', 'absent'], '42': ['DNA6', 'B1827', 'present'], '43': ['DNA7', 'B1827', 'present'], '44': ['DNA8', 'B1827', 'present'], '45': ['DNA9', 'B1827', 'present'], '46': ['DNA10', 'B1827', 'absent'], '47': ['DNA11', 'B1827', 'present'], '48': ['none', 'B1827', 'absent']}\n"
     ]
    }
   ],
   "source": [
    "#Dictionary\n",
    "dna_dict = {}\n",
    "\n",
    "dna_file = \"DNAresults.csv\"\n",
    "with open(dna_file, \"r\") as f:\n",
    "    for line in f.readlines():\n",
    "        split_line = line.rstrip(\"\\n\").split(\",\")\n",
    "        dna_dict[split_line[0]] = split_line[1:]\n",
    "\n",
    "print(dna_dict)        "
   ]
  },
  {
   "cell_type": "code",
   "execution_count": 16,
   "metadata": {},
   "outputs": [
    {
     "name": "stdout",
     "output_type": "stream",
     "text": [
      "[{'well': ['sample', 'site', 'result']}, {'1': ['DNA1', 'A1847', 'present']}, {'2': ['DNA2', 'A1847', 'present']}, {'3': ['DNA3', 'A1847', 'absent']}, {'4': ['DNA4', 'A1847', 'absent']}, {'5': ['DNA5', 'A1847', 'absent']}, {'6': ['DNA6', 'A1847', 'present']}, {'7': ['DNA7', 'A1847', 'present']}, {'8': ['DNA8', 'A1847', 'absent']}, {'9': ['DNA9', 'A1847', 'absent']}, {'10': ['DNA10', 'A1847', 'absent']}, {'11': ['DNA11', 'A1847', 'absent']}, {'12': ['none', 'A1847', 'absent']}, {'13': ['DNA1', 'A381', 'present']}, {'14': ['DNA2', 'A381', 'absent']}, {'15': ['DNA3', 'A381', 'present']}, {'16': ['DNA4', 'A381', 'present']}, {'17': ['DNA5', 'A381', 'absent']}, {'18': ['DNA6', 'A381', 'present']}, {'19': ['DNA7', 'A381', 'present']}, {'20': ['DNA8', 'A381', 'present']}, {'21': ['DNA9', 'A381', 'present']}, {'22': ['DNA10', 'A381', 'absent']}, {'23': ['DNA11', 'A381', 'absent']}, {'24': ['none', 'A381', 'absent']}, {'25': ['DNA1', 'B372', 'absent']}, {'26': ['DNA2', 'B372', 'absent']}, {'27': ['DNA3', 'B372', 'present']}, {'28': ['DNA4', 'B372', 'present']}, {'29': ['DNA5', 'B372', 'present']}, {'30': ['DNA6', 'B372', 'present']}, {'31': ['DNA7', 'B372', 'present']}, {'32': ['DNA8', 'B372', 'present']}, {'33': ['DNA9', 'B372', 'present']}, {'34': ['DNA10', 'B372', 'absent']}, {'35': ['DNA11', 'B372', 'present']}, {'36': ['none', 'B372', 'absent']}, {'37': ['DNA1', 'B1827', 'absent']}, {'38': ['DNA2', 'B1827', 'present']}, {'39': ['DNA3', 'B1827', 'present']}, {'40': ['DNA4', 'B1827', 'absent']}, {'41': ['DNA5', 'B1827', 'absent']}, {'42': ['DNA6', 'B1827', 'present']}, {'43': ['DNA7', 'B1827', 'present']}, {'44': ['DNA8', 'B1827', 'present']}, {'45': ['DNA9', 'B1827', 'present']}, {'46': ['DNA10', 'B1827', 'absent']}, {'47': ['DNA11', 'B1827', 'present']}, {'48': ['none', 'B1827', 'absent']}]\n"
     ]
    }
   ],
   "source": [
    "#List of dictionaries\n",
    "dna_list_of_dicts = []\n",
    "\n",
    "dna_file = \"DNAresults.csv\"\n",
    "with open(dna_file, \"r\") as f:\n",
    "    for line in f.readlines():\n",
    "        dna_dict = {}\n",
    "        split_line = line.rstrip(\"\\n\").split(\",\")\n",
    "        dna_dict[split_line[0]] = split_line[1:]\n",
    "        dna_list_of_dicts.append(dna_dict)\n",
    "\n",
    "print(dna_list_of_dicts)"
   ]
  },
  {
   "cell_type": "code",
   "execution_count": 19,
   "metadata": {},
   "outputs": [
    {
     "name": "stdout",
     "output_type": "stream",
     "text": [
      "{'well': {'sample': ['site', 'result']}, '1': {'DNA1': ['A1847', 'present']}, '2': {'DNA2': ['A1847', 'present']}, '3': {'DNA3': ['A1847', 'absent']}, '4': {'DNA4': ['A1847', 'absent']}, '5': {'DNA5': ['A1847', 'absent']}, '6': {'DNA6': ['A1847', 'present']}, '7': {'DNA7': ['A1847', 'present']}, '8': {'DNA8': ['A1847', 'absent']}, '9': {'DNA9': ['A1847', 'absent']}, '10': {'DNA10': ['A1847', 'absent']}, '11': {'DNA11': ['A1847', 'absent']}, '12': {'none': ['A1847', 'absent']}, '13': {'DNA1': ['A381', 'present']}, '14': {'DNA2': ['A381', 'absent']}, '15': {'DNA3': ['A381', 'present']}, '16': {'DNA4': ['A381', 'present']}, '17': {'DNA5': ['A381', 'absent']}, '18': {'DNA6': ['A381', 'present']}, '19': {'DNA7': ['A381', 'present']}, '20': {'DNA8': ['A381', 'present']}, '21': {'DNA9': ['A381', 'present']}, '22': {'DNA10': ['A381', 'absent']}, '23': {'DNA11': ['A381', 'absent']}, '24': {'none': ['A381', 'absent']}, '25': {'DNA1': ['B372', 'absent']}, '26': {'DNA2': ['B372', 'absent']}, '27': {'DNA3': ['B372', 'present']}, '28': {'DNA4': ['B372', 'present']}, '29': {'DNA5': ['B372', 'present']}, '30': {'DNA6': ['B372', 'present']}, '31': {'DNA7': ['B372', 'present']}, '32': {'DNA8': ['B372', 'present']}, '33': {'DNA9': ['B372', 'present']}, '34': {'DNA10': ['B372', 'absent']}, '35': {'DNA11': ['B372', 'present']}, '36': {'none': ['B372', 'absent']}, '37': {'DNA1': ['B1827', 'absent']}, '38': {'DNA2': ['B1827', 'present']}, '39': {'DNA3': ['B1827', 'present']}, '40': {'DNA4': ['B1827', 'absent']}, '41': {'DNA5': ['B1827', 'absent']}, '42': {'DNA6': ['B1827', 'present']}, '43': {'DNA7': ['B1827', 'present']}, '44': {'DNA8': ['B1827', 'present']}, '45': {'DNA9': ['B1827', 'present']}, '46': {'DNA10': ['B1827', 'absent']}, '47': {'DNA11': ['B1827', 'present']}, '48': {'none': ['B1827', 'absent']}}\n"
     ]
    }
   ],
   "source": [
    "#Dictionary of dictionaries\n",
    "dna_dict_of_dicts = {}\n",
    "\n",
    "dna_file = \"DNAresults.csv\"\n",
    "with open(dna_file, \"r\") as f:\n",
    "    for line in f.readlines():\n",
    "            dna_dict = {}\n",
    "            split_line = line.rstrip(\"\\n\").split(\",\")\n",
    "            dna_dict[split_line[1]] = split_line[2:]\n",
    "            dna_dict_of_dicts[split_line[0]] = dna_dict\n",
    "\n",
    "print(dna_dict_of_dicts)"
   ]
  },
  {
   "cell_type": "code",
   "execution_count": null,
   "metadata": {},
   "outputs": [],
   "source": []
  },
  {
   "cell_type": "code",
   "execution_count": null,
   "metadata": {},
   "outputs": [],
   "source": []
  }
 ],
 "metadata": {
  "kernelspec": {
   "display_name": "PythonBootcamp",
   "language": "python",
   "name": "python3"
  },
  "language_info": {
   "codemirror_mode": {
    "name": "ipython",
    "version": 3
   },
   "file_extension": ".py",
   "mimetype": "text/x-python",
   "name": "python",
   "nbconvert_exporter": "python",
   "pygments_lexer": "ipython3",
   "version": "3.13.1"
  }
 },
 "nbformat": 4,
 "nbformat_minor": 4
}
