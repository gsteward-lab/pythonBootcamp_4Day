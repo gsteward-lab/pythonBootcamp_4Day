{
 "cells": [
  {
   "cell_type": "code",
   "execution_count": 11,
   "metadata": {},
   "outputs": [],
   "source": [
    "# file name\n",
    "conversion_file = \"conversionMeasures.csv\""
   ]
  },
  {
   "cell_type": "code",
   "execution_count": 12,
   "metadata": {},
   "outputs": [
    {
     "name": "stdout",
     "output_type": "stream",
     "text": [
      "[['kilometer', '1000', 'meter'], ['meter', '100', 'centimeter'], ['inch', '2.54', 'centimeter'], ['foot', '30.48', 'centimeter'], ['mile', '1.609', 'kilometer']]\n"
     ]
    }
   ],
   "source": [
    "# read conversion file and save the conversion as list dict\n",
    "with open(conversion_file, \"r\") as cf:\n",
    "    conversion_list = [line.strip().split(\",\") for line in cf.readlines()]\n",
    "\n",
    "# print the first 5 elements to make sure that the data is set up correctly\n",
    "print(conversion_list[:5])"
   ]
  },
  {
   "cell_type": "markdown",
   "metadata": {},
   "source": [
    "Idea: convert the conversion data into a dictionary of dictionary. The first key lets me specify the unit I would like to convert from, and the second key lets me specify the unit I would like to convert to.\n",
    "\n",
    "For example, consider the following dictionary `my_dict`"
   ]
  },
  {
   "cell_type": "code",
   "execution_count": 13,
   "metadata": {},
   "outputs": [],
   "source": [
    "my_dict = {\n",
    "    \"kilometer\": {\"meter\": 1000, \"mile\": 0.6214},\n",
    "    \"mile\": {\"kilometer\": 1.609}\n",
    "}"
   ]
  },
  {
   "cell_type": "markdown",
   "metadata": {},
   "source": [
    "I can retrieve the conversion factor from \"kilometer\" to \"meter\" by"
   ]
  },
  {
   "cell_type": "code",
   "execution_count": 14,
   "metadata": {},
   "outputs": [
    {
     "data": {
      "text/plain": [
       "1000"
      ]
     },
     "execution_count": 14,
     "metadata": {},
     "output_type": "execute_result"
    }
   ],
   "source": [
    "my_dict[\"kilometer\"][\"meter\"]"
   ]
  },
  {
   "cell_type": "markdown",
   "metadata": {},
   "source": [
    "or from \"kilometer\" to \"mile\" by"
   ]
  },
  {
   "cell_type": "code",
   "execution_count": 15,
   "metadata": {},
   "outputs": [
    {
     "data": {
      "text/plain": [
       "0.6214"
      ]
     },
     "execution_count": 15,
     "metadata": {},
     "output_type": "execute_result"
    }
   ],
   "source": [
    "my_dict[\"kilometer\"][\"mile\"]"
   ]
  },
  {
   "cell_type": "code",
   "execution_count": 16,
   "metadata": {},
   "outputs": [],
   "source": [
    "# initialize dictionary\n",
    "conversion_dict = {}\n",
    "\n",
    "# for each element in the list, convert all characters to lower character\n",
    "for conversion in conversion_list:\n",
    "    from_unit = conversion[0].lower()\n",
    "    to_unit = conversion[2].lower()\n",
    "    multiplier = conversion[1]\n",
    "\n",
    "    # if multiplier contains a fraction, convert denom and numerator and calculate\n",
    "    if \"/\" in multiplier:\n",
    "        multiplier = multiplier.split(\"/\")\n",
    "        multiplier = float(multiplier[0]) / float(multiplier[1])\n",
    "    else :\n",
    "        multiplier = float(multiplier)\n",
    "    \n",
    "    # if we see the \"from_unit\" for the first time, create a new dictionary\n",
    "    # for the key\n",
    "    if from_unit not in conversion_dict.keys():\n",
    "        conversion_dict[from_unit] = {to_unit: multiplier}\n",
    "    # otherwise, the dictionary for the key already exists, so we can just\n",
    "    # add the new key-value pari to the existing dictionary\n",
    "    else :\n",
    "        conversion_dict[from_unit][to_unit] = multiplier\n",
    "\n"
   ]
  },
  {
   "cell_type": "code",
   "execution_count": 17,
   "metadata": {},
   "outputs": [
    {
     "name": "stdout",
     "output_type": "stream",
     "text": [
      "{'kilometer': {'meter': 1000.0, 'mile': 0.6214}, 'meter': {'centimeter': 100.0, 'inch': 39.37}, 'inch': {'centimeter': 2.54}, 'foot': {'centimeter': 30.48}, 'mile': {'kilometer': 1.609}, 'centimeter': {'inch': 0.3937}, 'square_meter': {'square_foot': 10.76}, 'square_mile': {'acres': 640.0}, 'square_foot': {'cm2': 929.0}, 'acre': {'square_foot': 43560.0}, 'liter': {'cm3': 1000.0, 'quart': 1.057, 'cubic_inch': 61.02, 'cubic_foot': 0.03532}, 'cubic_meter': {'liter': 1000.0, 'cubic_foot': 35.32}, 'cubic_foot': {'gallon': 7.481, 'cubic_meter': 0.02832, 'liter': 28.32}, 'gallon': {'cubic_inch': 231.0, 'liter': 3.785}, 'british_gallon': {'gallon': 1.201, 'cubic_inch': 277.4}, 'kilogram': {'pound': 2.2046, 'slug': 0.06852}, 'pound': {'gram': 453.6, 'slug': 0.03108, 'ounce': 16.0}, 'slug': {'pound': 32.174, 'kg': 14.59}, 'km/h': {'m/sec': 0.2778, 'mi/h': 0.6214, 'ft/sec': 0.9113}, 'mi/h': {'ft/sec': 1.467, 'km/h': 1.609, 'm/sec': 0.447}, 'short_ton': {'pound': 2000.0}, 'long_ton': {'pound': 2240.0}, 'metric_ton': {'pound': 2205.0}, 'joule': {'ergs': 107.0, 'calorie': 0.2389}, 'calorie': {'joules': 4.186}, 'watt': {'joule/sec': 1.0, 'ergs/sec': 107.0, 'cal/sec': 0.2389}, 'tablespoon': {'teaspoon': 3.0}, 'tablespoons': {'cup': 0.25}, 'cup': {'ml': 240.0}, 'pint': {'ml': 475.0}, 'ounce': {'gram': 28.0}, 'teaspoon': {'ml': 5.0}}\n"
     ]
    }
   ],
   "source": [
    "print(conversion_dict)"
   ]
  },
  {
   "cell_type": "code",
   "execution_count": 18,
   "metadata": {},
   "outputs": [
    {
     "data": {
      "text/plain": [
       "2.2046"
      ]
     },
     "execution_count": 18,
     "metadata": {},
     "output_type": "execute_result"
    }
   ],
   "source": [
    "# sanity check: check conversion from \"kilogram\" to \"pound\"ArithmeticError\n",
    "conversion_dict[\"kilogram\"][\"pound\"]"
   ]
  },
  {
   "cell_type": "code",
   "execution_count": 40,
   "metadata": {},
   "outputs": [],
   "source": [
    "# now define a function that converts units using the dictionary\n",
    "def convert_unit(test_unit, final_unit, value):\n",
    "    # text processing for input units\n",
    "    test_unit = test_unit.replace(\" \", \"_\").lower()\n",
    "    final_unit = final_unit.replace(\" \", \"_\").lower()\n",
    "\n",
    "    # convert string to float - the value input could be a string\n",
    "    # the conversion could error, which I want to account for.\n",
    "    # In the case that it errors, print the invalid value and stop the function\n",
    "    try:\n",
    "        value = float(value)\n",
    "    except:\n",
    "        print(\"Value is not a valid number! Your input: \\\"\" + str(value) + \"\\\"\")\n",
    "        return None\n",
    "\n",
    "    # error handling for when the conversion does not exist\n",
    "    try:\n",
    "        # look up the multiplier in the original dictionary\n",
    "        multiplier = conversion_dict[test_unit][final_unit]\n",
    "    except:\n",
    "        # if it does not exist, maybe there's conversion for the other way around\n",
    "        # can use the inverse of the factor\n",
    "        try:\n",
    "            multiplier = 1 / conversion_dict[final_unit][test_unit]\n",
    "        except:\n",
    "            # if the opposite conversion does not exist, print that \n",
    "            # it cannot find the conversion and end the function\n",
    "            print(f\"\\\"{test_unit}\\\" to \\\"{final_unit}\\\" is not a valid conversion :(.\")\n",
    "            return None    \n",
    "\n",
    "    # following lines will run if the multiplication factor is found\n",
    "    # now all that's left to do convert to new unit\n",
    "    new_unit_value = multiplier * value\n",
    "\n",
    "    # optimistically print the output\n",
    "    print(f\"Got it! {value} {test_unit} is equal to {new_unit_value:.2f} {final_unit}.\")\n",
    "\n",
    "    return new_unit_value\n"
   ]
  },
  {
   "cell_type": "code",
   "execution_count": 41,
   "metadata": {},
   "outputs": [],
   "source": [
    "# all test cases. Can just copy one of these cases to next cell and check if the function runs\n",
    "test_unit = \"pint\"\n",
    "test_value = 2.5\n",
    "final_unit = \"mL\"\n",
    "\n",
    "test_unit = \"cubic foot\"\n",
    "test_value = 30\n",
    "final_unit = \"liter\"\n",
    "\n",
    "test_unit = \"slug\"\n",
    "test_value = \"4.8\"\t# Yes, you should write your code to handle values that are entered as strings\n",
    "final_unit = \"pound\"\n",
    "\n",
    "test_unit = \"slug\"\n",
    "test_value = 27.0\n",
    "final_unit = \"snail\" # See 'Errors to anticipate' below\n",
    "\n",
    "test_unit = \"KM/H\"\n",
    "test_value = 8.4\n",
    "final_unit = \"m/Sec\"\n",
    "\n",
    "test_unit = \"ergs\"\n",
    "test_value = 8.4\n",
    "final_unit = \"joule\""
   ]
  },
  {
   "cell_type": "code",
   "execution_count": 42,
   "metadata": {},
   "outputs": [
    {
     "data": {
      "text/plain": [
       "107.0"
      ]
     },
     "execution_count": 42,
     "metadata": {},
     "output_type": "execute_result"
    }
   ],
   "source": [
    "conversion_dict[\"joule\"][\"ergs\"]"
   ]
  },
  {
   "cell_type": "code",
   "execution_count": 48,
   "metadata": {},
   "outputs": [
    {
     "name": "stdout",
     "output_type": "stream",
     "text": [
      "Got it! 4.8 slug is equal to 154.44 pound.\n"
     ]
    },
    {
     "data": {
      "text/plain": [
       "154.43519999999998"
      ]
     },
     "execution_count": 48,
     "metadata": {},
     "output_type": "execute_result"
    }
   ],
   "source": [
    "test_unit = \"slug\"\n",
    "test_value = \"4.8\"\t# Yes, you should write your code to handle values that are entered as strings\n",
    "final_unit = \"pound\"\n",
    "\n",
    "convert_unit(test_unit, final_unit, test_value)"
   ]
  },
  {
   "cell_type": "code",
   "execution_count": 44,
   "metadata": {},
   "outputs": [],
   "source": [
    "# make it more interactive with user input\n",
    "def convert_unit_interactive():\n",
    "    # requires three inputs\n",
    "    test_unit = input(\"Enter the unit you are converting from: \")\n",
    "    final_unit = input(\"Enter the unit you are converting to: \")\n",
    "    value = input(\"Enter the value you are converting: \")\n",
    "\n",
    "    return convert_unit(test_unit, final_unit, value) \n"
   ]
  },
  {
   "cell_type": "code",
   "execution_count": 45,
   "metadata": {},
   "outputs": [
    {
     "name": "stdout",
     "output_type": "stream",
     "text": [
      "\"john\" to \"efren\" is not a valid conversion :(.\n"
     ]
    }
   ],
   "source": [
    "convert_unit_interactive()"
   ]
  }
 ],
 "metadata": {
  "kernelspec": {
   "display_name": "Python 3",
   "language": "python",
   "name": "python3"
  },
  "language_info": {
   "codemirror_mode": {
    "name": "ipython",
    "version": 3
   },
   "file_extension": ".py",
   "mimetype": "text/x-python",
   "name": "python",
   "nbconvert_exporter": "python",
   "pygments_lexer": "ipython3",
   "version": "3.12.0"
  }
 },
 "nbformat": 4,
 "nbformat_minor": 2
}
