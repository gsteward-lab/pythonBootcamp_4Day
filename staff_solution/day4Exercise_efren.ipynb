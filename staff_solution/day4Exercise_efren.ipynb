{
 "cells": [
  {
   "cell_type": "markdown",
   "id": "b4367053-98ac-4886-ad3e-9cbf8b7e9681",
   "metadata": {},
   "source": [
    "# Information"
   ]
  },
  {
   "cell_type": "markdown",
   "id": "091881db-cd88-4c4d-8b12-06deca0de228",
   "metadata": {},
   "source": [
    "These are the solutions to the conversion exercise for the Python fundamentals bootcamp taught by Colby Witherup Wood! These solutions were prepared by efrén cruz cortés and use the \"list of lists\" approach. John Lee prepared another set of solutions using the \"list of dictionaries\" approach."
   ]
  },
  {
   "cell_type": "markdown",
   "id": "39bbc847-d909-4d73-afdf-12e4e3013be7",
   "metadata": {},
   "source": [
    "# Loading the file and cleaning our data"
   ]
  },
  {
   "cell_type": "markdown",
   "id": "e6b182cd-f352-4fc3-9579-51e5591620e0",
   "metadata": {},
   "source": [
    "First let's open our file, and save it as a list using the `readlines()` method for files:"
   ]
  },
  {
   "cell_type": "code",
   "execution_count": null,
   "id": "c250873c-644d-40b4-8a62-c8d5ea906dfe",
   "metadata": {},
   "outputs": [],
   "source": [
    "file_name = 'conversionMeasures.csv'\n",
    "with open(file_name, 'r') as f:\n",
    "    raw_data = f.readlines()"
   ]
  },
  {
   "cell_type": "markdown",
   "id": "573948f4-1b43-406c-a199-5fbb4129c50a",
   "metadata": {},
   "source": [
    "<b>Note:</b> `file_name` is a string, that is, a piece of text. It is not the file itself. To obtain the file you must use `open()`. Inside the `with` statement, the actual file is `f`."
   ]
  },
  {
   "cell_type": "markdown",
   "id": "e594d6a9-524f-4429-bbae-f172fc67760f",
   "metadata": {},
   "source": [
    "Each element in our list should be a string:"
   ]
  },
  {
   "cell_type": "code",
   "execution_count": null,
   "id": "d018430f-9732-40b5-b7d3-96a8cbcda139",
   "metadata": {},
   "outputs": [],
   "source": [
    "raw_data[0:5]\n"
   ]
  },
  {
   "cell_type": "markdown",
   "id": "567e368a-1c6a-4a71-a258-95bc858518a2",
   "metadata": {},
   "source": [
    "Great. Now what? Well, let's get rid of the trailing new lines \"\\n\", and separate each element into a list of strings.\n",
    "\n",
    "I will use the `rstrip()` and `split()` methods. So let's review what these do:"
   ]
  },
  {
   "cell_type": "code",
   "execution_count": null,
   "id": "8b981819-e357-456e-9dcd-1ba456d7d28e",
   "metadata": {},
   "outputs": [],
   "source": [
    "test_line = raw_data[0]"
   ]
  },
  {
   "cell_type": "code",
   "execution_count": null,
   "id": "a6fd2579-0f07-4044-877b-4baaecabbfd9",
   "metadata": {},
   "outputs": [],
   "source": [
    "test_line"
   ]
  },
  {
   "cell_type": "code",
   "execution_count": null,
   "id": "4f78b878-1040-41c8-b43e-4eacec8000da",
   "metadata": {},
   "outputs": [],
   "source": [
    "test_line.rstrip(\"\\n\")"
   ]
  },
  {
   "cell_type": "code",
   "execution_count": null,
   "id": "beafe237-7af9-4b89-be85-aa2471e43947",
   "metadata": {},
   "outputs": [],
   "source": [
    "test_line.rstrip(\"\\n\").split(\",\")"
   ]
  },
  {
   "cell_type": "markdown",
   "id": "be32162b-be67-47e6-ba5a-50a8af5b56ca",
   "metadata": {},
   "source": [
    "So each string will be first stripped of its trailing \"\\n\", and then split into a list of smaller components. We indicate that the split is done every time it encounters a comma.\n",
    "\n",
    "Now let's do it for the whole list:"
   ]
  },
  {
   "cell_type": "code",
   "execution_count": null,
   "id": "3df31304-f4b8-4f48-8b70-972143ae2a71",
   "metadata": {},
   "outputs": [],
   "source": [
    "conversion_data = []\n",
    "for line in raw_data:\n",
    "    conversion_data.append(line.rstrip(\"\\n\").split(\",\"))"
   ]
  },
  {
   "cell_type": "markdown",
   "id": "ed9f3186-eb91-4c15-9a7d-e9bf159912a6",
   "metadata": {},
   "source": [
    "Let's check out the first few entries of our new list:"
   ]
  },
  {
   "cell_type": "code",
   "execution_count": null,
   "id": "d341aa0b-1076-4b57-8c75-62d2afa52af2",
   "metadata": {},
   "outputs": [],
   "source": [
    "conversion_data[0:5]"
   ]
  },
  {
   "cell_type": "markdown",
   "id": "0a2f334b-1f27-4699-9464-dfe6851f58f7",
   "metadata": {},
   "source": [
    "OK, we got it!! Let's put it all in one place again, just so you see the unified version:"
   ]
  },
  {
   "cell_type": "markdown",
   "id": "1440f38f-f2bc-41b3-9268-965450493a21",
   "metadata": {},
   "source": [
    "## Unified cell for loading the file and cleaning our data:"
   ]
  },
  {
   "cell_type": "code",
   "execution_count": null,
   "id": "2bd7b986-8eab-4fc7-9d50-31744927da20",
   "metadata": {},
   "outputs": [],
   "source": [
    "# First we load the file, and make a list where each element is a line from the file\n",
    "file_name = 'conversionMeasures.csv'\n",
    "with open(file_name, 'r') as f:\n",
    "    raw_data = f.readlines()\n",
    "\n",
    "# Then we create a new list, where each element is a smaller list:\n",
    "conversion_data = []\n",
    "for line in raw_data:\n",
    "    conversion_data.append(line.rstrip(\"\\n\").split(\",\"))\n",
    "\n",
    "# Let's print the first few entries to make sure everything is ok:\n",
    "conversion_data[0:3]"
   ]
  },
  {
   "cell_type": "markdown",
   "id": "497f1aae-b721-4771-acd5-e2b08ebcf4c1",
   "metadata": {},
   "source": [
    "# Converter"
   ]
  },
  {
   "cell_type": "markdown",
   "id": "29cfe9fd-df0c-4216-a853-da54dd77b9c2",
   "metadata": {},
   "source": [
    "## First Version"
   ]
  },
  {
   "cell_type": "markdown",
   "id": "8af292fc-46a6-4d1d-a654-3f24c231e9a5",
   "metadata": {},
   "source": [
    "Mmm, how do we do this? Let's define a function, converter_v1, that receives as input the user's informations: the values they want to convert, as well as the unit they want to convert *from* and the one they want to convert *to*:"
   ]
  },
  {
   "cell_type": "code",
   "execution_count": null,
   "id": "28845cfb-9d8f-4fdb-aea0-0cb80ed0bd1b",
   "metadata": {},
   "outputs": [],
   "source": [
    "def converter_v1(v, unit_1, unit_2):\n",
    "    return"
   ]
  },
  {
   "cell_type": "markdown",
   "id": "dfce023b-dcb1-44b5-9f4e-ca55bfaf1999",
   "metadata": {},
   "source": [
    "OK, this doesn't do anything right now, but it is a function! Let's add what we want: if unit_1 matches one of the units in the left column of my list, and unit_2 matches the corresponding unit in the right column of the list, then it should work, for simple cases:"
   ]
  },
  {
   "cell_type": "code",
   "execution_count": null,
   "id": "31c9e5d8-d252-4216-86a2-5c2c5187f7a4",
   "metadata": {},
   "outputs": [],
   "source": [
    "def converter_v1(v, unit_1, unit_2):\n",
    "    for i in conversion_data:\n",
    "        if i[0] == unit_1 and i[2] == unit_2:    # <-- Checks if the units match left and right columns\n",
    "            new_value = v * i[1]                 # <-- Makes the conversion with middle column value\n",
    "            print(\"Your new values is: \" + str(new_value) + \" \" + unit_2)\n",
    "    return"
   ]
  },
  {
   "cell_type": "markdown",
   "id": "b138f2de-1f10-4aa3-bc15-d4a6953b95fa",
   "metadata": {},
   "source": [
    "Let's test it:"
   ]
  },
  {
   "cell_type": "code",
   "execution_count": null,
   "id": "024ea48a-bf74-4eb4-ac9b-63ce6555af59",
   "metadata": {},
   "outputs": [],
   "source": [
    "converter_v1(2,'kilometer','meter')"
   ]
  },
  {
   "cell_type": "markdown",
   "id": "42b1668b-e59c-408c-b1e4-d00256eb0c17",
   "metadata": {},
   "source": [
    "Did the above work? No, it replicated `1000`, that's because it is still a string! Let's fix that:"
   ]
  },
  {
   "cell_type": "code",
   "execution_count": null,
   "id": "618ed8e8-2fe3-4193-ada3-11e9c9bf355b",
   "metadata": {},
   "outputs": [],
   "source": [
    "def converter_v1(v, unit_1, unit_2):\n",
    "    for i in conversion_data:\n",
    "        if i[0] == unit_1 and i[2] == unit_2:\n",
    "            new_value = v * float(i[1])                 # <-- Transform into float\n",
    "            print(\"Your new values is: \" + str(new_value) + \" \" + unit_2)\n",
    "    return"
   ]
  },
  {
   "cell_type": "code",
   "execution_count": null,
   "id": "90e685c3-f9ab-4d3d-b806-471e9e5b4584",
   "metadata": {},
   "outputs": [],
   "source": [
    "converter_v1(2.5,'kilometer','meter')"
   ]
  },
  {
   "cell_type": "markdown",
   "id": "c424105e-c3a5-40bd-8858-330890efb6da",
   "metadata": {},
   "source": [
    "## Second Version"
   ]
  },
  {
   "cell_type": "markdown",
   "id": "6559139a-863d-4ee4-83b7-bf90646ff963",
   "metadata": {},
   "source": [
    "OK cool, but what if the user inputs something weird for the value to convert, or for the units?"
   ]
  },
  {
   "cell_type": "code",
   "execution_count": null,
   "id": "44010816-3d6f-4095-ac7a-cc1083736958",
   "metadata": {},
   "outputs": [],
   "source": [
    "# Giving an empty list as value to throw the converter off:\n",
    "converter_v1([], 'kilometer', 'meter')"
   ]
  },
  {
   "cell_type": "markdown",
   "id": "bd5d6143-e85d-4bb7-9ac2-26dc2f9a70c9",
   "metadata": {},
   "source": [
    "Aha! We get an error. So now we have to check that our first value is a number, and that our units are strings. For this I'm going to use if statements and try/except.\n",
    "\n",
    "First, let's deal with the numerical value:"
   ]
  },
  {
   "cell_type": "code",
   "execution_count": null,
   "id": "ca6f3c29-263f-4b92-9520-4fcf5dca85bf",
   "metadata": {},
   "outputs": [],
   "source": [
    "def converter_v2(v, unit_1, unit_2):\n",
    "    # Step 1: Check if types are valid:\n",
    "    if type(v) != int or type(v) != float:        # <-- This checks if v fails to be an integer or a float\n",
    "        try:\n",
    "            v = float(v)                          # <-- I'll try to convert it in case it is a string of a number\n",
    "        except:\n",
    "            print(f'The value you are trying to convert must be an integer or a float, not a {type(v)}')  # <-- I used an \"f string\", did you learn about them yet?\n",
    "            return\n",
    "    # Step 2: Run the for loop we had before, to find the unit conversion\n",
    "    for i in conversion_data:\n",
    "        if i[0] == unit_1 and i[2] == unit_2:\n",
    "            new_value = v * i[1]\n",
    "            print(f'I got it! Your value of {v} {unit_1} is the same as {new_value} {unit_2}')\n",
    "            return\n",
    "    return"
   ]
  },
  {
   "cell_type": "markdown",
   "id": "606c51c0-133f-4373-a906-74e4c872b12b",
   "metadata": {},
   "source": [
    "OK, that should solve our first value problem right? Let's check:"
   ]
  },
  {
   "cell_type": "code",
   "execution_count": null,
   "id": "ecbee328-f17d-4b05-aa0f-f1f0743f8405",
   "metadata": {},
   "outputs": [],
   "source": [
    "converter_v2([], \"kilometer\", \"meter\")"
   ]
  },
  {
   "cell_type": "markdown",
   "id": "f5e3b6e4-d7d4-415c-a459-6ab659d6e4ce",
   "metadata": {},
   "source": [
    "Before we continue, notice where the `return` statements are: there is one inside the `except` statement, and one at the very end. In the case we do get an error, having a return statement will completely exit the function and not do anything else. If we succeed and don't get an error, the code will continue, run the `for` loop, and return at the end. I also have a `return`statement inside my `for` loop, so that when I find the successful case I leave the function, and don't run anything else."
   ]
  },
  {
   "cell_type": "markdown",
   "id": "5917a24a-805d-4673-bfa3-e9f4491ef076",
   "metadata": {},
   "source": [
    "OK, let's do another test:"
   ]
  },
  {
   "cell_type": "code",
   "execution_count": null,
   "id": "858ba2c8-688e-4554-890f-d8d682494aa7",
   "metadata": {},
   "outputs": [],
   "source": [
    "converter_v2(2, 10, \"meter\")"
   ]
  },
  {
   "cell_type": "markdown",
   "id": "d60d5d85-95fe-4752-9f4e-750355fa2601",
   "metadata": {},
   "source": [
    "Mmm, nothing happened but we gave the wrong second argument. So now we must check the units are strings:"
   ]
  },
  {
   "cell_type": "code",
   "execution_count": null,
   "id": "77c1b592-74f1-4ce2-b66c-ace16b9c0e6b",
   "metadata": {},
   "outputs": [],
   "source": [
    "def converter_v2(v, unit_1, unit_2):\n",
    "    # Step 1: Check if types are valid:\n",
    "    if type(v) != int or type(v) != float:        # <-- This checks if v is an integer or a float\n",
    "        try:\n",
    "            v = float(v)                          # <-- I'll try to convert it in case it is a string of a number\n",
    "        except:\n",
    "            print(f'The value you are trying to convert must be an integer or a float, not a {type(v)}')  # <-- I used an \"f string\", did you learn about them yet?\n",
    "            return\n",
    "    if type(unit_1) != str or type(unit_2) != str:\n",
    "        print(\"Your units must be strings. Get it together plz.\")\n",
    "        return\n",
    "    # Step 2: Run the for loop we had before, to find the unit conversion\n",
    "    for i in conversion_data:\n",
    "        if i[0] == unit_1 and i[2] == unit_2:\n",
    "            new_value = v * float(i[1])\n",
    "            print(f'I got it! Your value of {v} {unit_1} is the same as {new_value} {unit_2}')\n",
    "            return\n",
    "    return"
   ]
  },
  {
   "cell_type": "code",
   "execution_count": null,
   "id": "5cded5fc-16a1-4fd7-9fce-1f7f227da7ca",
   "metadata": {},
   "outputs": [],
   "source": [
    "converter_v2([],\"kilometer\", \"meter\")"
   ]
  },
  {
   "cell_type": "code",
   "execution_count": null,
   "id": "b225a5fa-96eb-43c4-8b01-ed168724fc7b",
   "metadata": {},
   "outputs": [],
   "source": [
    "converter_v2(2, [], \"meter\")"
   ]
  },
  {
   "cell_type": "code",
   "execution_count": null,
   "id": "6c023991-d4b5-4c69-8874-6ca42662f98b",
   "metadata": {},
   "outputs": [],
   "source": [
    "converter_v2(2, \"kilometer\", \"meter\")"
   ]
  },
  {
   "cell_type": "markdown",
   "id": "a66cf1ab-c9b2-47b3-a25f-c670fce4caf1",
   "metadata": {},
   "source": [
    "Yay, we are on the right path."
   ]
  },
  {
   "cell_type": "markdown",
   "id": "60fd7570-f342-4ad3-86fc-97b6f59a2ad8",
   "metadata": {},
   "source": [
    "## (Optional) Setting up tests"
   ]
  },
  {
   "cell_type": "markdown",
   "id": "8cb45c27-5e7e-4ad9-af4a-5b9ddec8211e",
   "metadata": {},
   "source": [
    "Before continuing, let's set a way to automatically test different cases, this is not part of the exercise but it uses elements you learned throughout the week, so you should be able to read it. You can skip this if you want to."
   ]
  },
  {
   "cell_type": "code",
   "execution_count": null,
   "id": "24cd921c-f938-481f-96d0-7c96f7f046e5",
   "metadata": {},
   "outputs": [],
   "source": [
    "# Step 1. Put the test cases in a list of dictionaries:\n",
    "test_cases = [{\"test_unit\":   \"pint\",        \"test_value\": 2.5,   \"final_unit\": \"mL\"},\n",
    "                {\"test_unit\": \"cubic foot\",  \"test_value\": 30,    \"final_unit\": \"liter\"},\n",
    "                {\"test_unit\": \"slug\",        \"test_value\": \"4.8\", \"final_unit\": \"pound\"},\n",
    "                {\"test_unit\": \"slug\",        \"test_value\": 27.0,  \"final_unit\": \"snail\"},\n",
    "                {\"test_unit\": [],            \"test_value\": 2.5,   \"final_unit\": \"meter\"},     # <-- Testing weird inputs\n",
    "                {\"test_unit\": \"kilometer\",   \"test_value\": [],    \"final_unit\": \"meter\"},\n",
    "                {\"test_unit\": \"KM/H\",        \"test_value\": 8.4,   \"final_unit\": \"m/Sec\"},     # <-- Testing capitalization\n",
    "                {\"test_unit\": \"ergs\",        \"test_value\": 8.4,   \"final_unit\": \"joule\"},     # <-- Inverse conversion\n",
    "                {\"test_unit\": \"tablespoons\", \"test_value\": 2,     \"final_unit\": \"cup\"}        # <-- conversion factor written as fraction\n",
    "]\n",
    "\n",
    "# Step 2. Create a function that checks our converter for all tests\n",
    "def test_checker(f_converter, test_cases):\n",
    "    n_case = 0\n",
    "    for test in test_cases:\n",
    "        try:\n",
    "            f_converter(test[\"test_value\"], test[\"test_unit\"], test[\"final_unit\"])   # <-- f_converter is a function!\n",
    "            print(f\"(Test case number {n_case} passed)\\n\")\n",
    "        except:\n",
    "            print(f\"(Test case number {n_case} failed)\\n\")\n",
    "        n_case = n_case + 1\n",
    "    return\n"
   ]
  },
  {
   "cell_type": "markdown",
   "id": "4eb0574b-0814-47e7-8f72-eaf81651fb6d",
   "metadata": {},
   "source": [
    "The first four are the basic ones Colby asked for. The fifth and sixth tests are just to check weird inputs (like an empty list, in this case), the last three checks are for the bonus questions.\n",
    "\n",
    "### <span style = \"color : teal\">Note:</span>\n",
    "Notice one of the arguments for the `test_checker` is actually a function, which I'm calling `f_converter` (I can use any name for it). This means `test_checker()` will receive a whole function and use it. Did you know you could do that?"
   ]
  },
  {
   "cell_type": "code",
   "execution_count": null,
   "id": "cba00a5f-a5be-445b-b6ad-64da4228805c",
   "metadata": {},
   "outputs": [],
   "source": [
    "test_checker(converter_v2, test_cases) # <-- Notice I'm giving converter_v2 without its parenthesis!"
   ]
  },
  {
   "cell_type": "markdown",
   "id": "87995b72-a875-4c09-9ace-6fd2345f7fdd",
   "metadata": {},
   "source": [
    "Notice that we only got one fail, the last test. However, tests 1, 3, 6 and 7 are not returning anything, even though they are also not giving us any error. Let's see what's going on there."
   ]
  },
  {
   "cell_type": "markdown",
   "id": "ba31e4e1-9755-4a75-bb45-c26c2d971d4b",
   "metadata": {},
   "source": [
    "## Third Version"
   ]
  },
  {
   "cell_type": "markdown",
   "id": "d271c35b-28bb-4001-82e6-f8ccb1d417d6",
   "metadata": {},
   "source": [
    "We'll build on v2, but (1) we will check that units with spaces, like \"cubic foot\", are accepted, (2) we will .lower() everything so to accept weird capitalization, and (3) unknown units will give out an error message."
   ]
  },
  {
   "cell_type": "code",
   "execution_count": null,
   "id": "8dc124e0-9456-4888-a84c-265ab0aaf37f",
   "metadata": {},
   "outputs": [],
   "source": [
    "def converter_v3(v, unit_1, unit_2):\n",
    "    # Step 1: Check if input types are valid:\n",
    "    if type(v) != int or type(v) != float:\n",
    "        try:\n",
    "            v = float(v)\n",
    "        except:\n",
    "            print(f'The value you are trying to convert must be an integer or a float, not a {type(v)}')\n",
    "            return\n",
    "    if type(unit_1) != str or type(unit_2) != str:\n",
    "        print(\"Your units must be strings. Get it together plz.\")\n",
    "        return\n",
    "        \n",
    "    # Step 2: Join strings that are separated, like \"cubic foot\":\n",
    "    unit_1 = unit_1.lower()    # <-- example: \"Cubic\" becomes \"cubic\"\n",
    "    unit_2 = unit_2.lower()\n",
    "    unit_1 = \"_\".join(unit_1.split(\" \")) # <-- example: \"cubic foot\" split into [\"cubic\", \"foot\"], then joined as \"cubic_foot\".\n",
    "    unit_2 = \"_\".join(unit_2.split(\" \"))\n",
    "    \n",
    "    # Step 3: Run the for loop we had before, to find the unit conversion\n",
    "    for i in conversion_data:\n",
    "        if i[0].lower() == unit_1 and i[2].lower() == unit_2:    # <-- note I'm also using .lower() in my conversion units\n",
    "            new_value = v * float(i[1])\n",
    "            print(f'I got it! Your value of {v} {unit_1} is the same as {new_value} {unit_2}')\n",
    "            return\n",
    "            \n",
    "    # Step 4: If the above loop ends, and nothing returned, it means we didn't find the conversion, so let's output that message:\n",
    "    print(\"I don't know this conversion. Sooooooorry!\")\n",
    "    return"
   ]
  },
  {
   "cell_type": "code",
   "execution_count": null,
   "id": "f1b87582-c03c-4689-b2c9-c297a574f500",
   "metadata": {},
   "outputs": [],
   "source": [
    "test_checker(converter_v3, test_cases)"
   ]
  },
  {
   "cell_type": "markdown",
   "id": "3e0fb809-2206-4e6d-9a05-3447ddda911f",
   "metadata": {},
   "source": [
    "Great, looks like the unknown conversions are 3 and 7, and 8 still fails. 3 is definitely an unknown conversion (slug to snail), so no problem there. 7 is an inverse conversion, meaning our table knows how to go from joules to ergs but not vice versa. This has an easy solution, let's divide instead of multiply! Let's add that case to our version v3, but notice now we need to change the first unit against the third column, and the second unit against the first column:"
   ]
  },
  {
   "cell_type": "code",
   "execution_count": null,
   "id": "fad253e4-50d1-4a9b-8947-705d90a2bf19",
   "metadata": {},
   "outputs": [],
   "source": [
    "def converter_v3(v, unit_1, unit_2):\n",
    "    # Step 1: Check if input types are valid:\n",
    "    if type(v) != int or type(v) != float:\n",
    "        try:\n",
    "            v = float(v)\n",
    "        except:\n",
    "            print(f'The value you are trying to convert must be an integer or a float, not a {type(v)}')\n",
    "            return\n",
    "    if type(unit_1) != str or type(unit_2) != str:\n",
    "        print(\"Your units must be strings. Get it together plz.\")\n",
    "        return\n",
    "        \n",
    "    # Step 2: Join strings that are separated\n",
    "    unit_1 = \"_\".join(unit_1.lower().split(\" \")) \n",
    "    unit_2 = \"_\".join(unit_2.lower().split(\" \"))\n",
    "    \n",
    "    # Step 3: Run the for loop we had before, to find the unit conversion\n",
    "    for i in conversion_data:\n",
    "        if i[0].lower() == unit_1 and i[2].lower() == unit_2:\n",
    "            new_value = v * float(i[1])\n",
    "            print(f'I got it! Your value of {v} {unit_1} is the same as {new_value} {unit_2}')\n",
    "            return\n",
    "        elif i[2].lower() == unit_1 and i[0].lower() == unit_2: # <-- NEW, inverted case\n",
    "            new_value = v / float(i[1])     # <-- Generally you would check we don't divide by zero. Today we will ignore this :')\n",
    "            print(f'I got it! Your value of {v} {unit_1} is the same as {new_value} {unit_2}')\n",
    "            return\n",
    "            \n",
    "    # Step 4: If the above loop ends, and nothing returned, it means we didn't find the conversion, so let's output that message:\n",
    "    print(\"I don't know this conversion. Sooooooorry!\")\n",
    "    return"
   ]
  },
  {
   "cell_type": "code",
   "execution_count": null,
   "id": "737b3830-3882-475c-b935-58fd804e9dbf",
   "metadata": {},
   "outputs": [],
   "source": [
    "test_checker(converter_v3, test_cases)"
   ]
  },
  {
   "cell_type": "markdown",
   "id": "8fb713bb-5619-4e4c-8028-4a503fa223dc",
   "metadata": {},
   "source": [
    "Yay! Conversion 7 worked. Finally, we need to figure out how to do test 8. This is the case in which the conversion factor in the conversion table is written as a fraction (check line 48 of your `conversionMeasures.csv` file, the one from tablespoons to cups. You will see it says 1/4 instead of .25. We are getting an error because in the operation `v * float(i[1])`, `i[1]` is the string \"1/4\", which is trying to convert to a float but it doesn't know how."
   ]
  },
  {
   "cell_type": "markdown",
   "id": "9004d71f-5f40-4b59-8444-cc9a9e0b4d3d",
   "metadata": {},
   "source": [
    "## Final Version"
   ]
  },
  {
   "cell_type": "markdown",
   "id": "d5add4d5-eec4-4a68-a543-3d914b79443b",
   "metadata": {},
   "source": [
    "To solve our problem with 8, we need to split the \"1/4\" string into the numerator and the denominator. Then we have to divide those, and use that as our conversion factor. We'll add a few try / except statements to accomplish this:"
   ]
  },
  {
   "cell_type": "code",
   "execution_count": null,
   "id": "84e0cede-c072-453f-b29c-097287bfe3d4",
   "metadata": {},
   "outputs": [],
   "source": [
    "def converter_v4(v, unit_1, unit_2):\n",
    "    # Step 1: Check if input types are valid:\n",
    "    if type(v) != int or type(v) != float:\n",
    "        try:\n",
    "            v = float(v)\n",
    "        except:\n",
    "            print(f'The value you are trying to convert must be an integer or a float, not a {type(v)}')\n",
    "            return\n",
    "    if type(unit_1) != str or type(unit_2) != str:\n",
    "        print(\"Your units must be strings. Get it together plz.\")\n",
    "        return\n",
    "        \n",
    "    # Step 2: Join strings that are separated\n",
    "    unit_1 = \"_\".join(unit_1.lower().split(\" \")) \n",
    "    unit_2 = \"_\".join(unit_2.lower().split(\" \"))\n",
    "    \n",
    "    # Step 3: Run the for loop we had before, to find the unit conversion\n",
    "    for i in conversion_data:\n",
    "        # NEW: Add try / except to catch if conversion factor is in the form a/b\n",
    "        try:\n",
    "            c = float(i[1])\n",
    "        except:\n",
    "            try:\n",
    "                c1, c2 = i[1].split(\"/\")\n",
    "                c = float(c1) / float(c2)\n",
    "            except:\n",
    "                print(f\"Sorry, there's something wrong with the conversion factor :-/\")\n",
    "                return\n",
    "                \n",
    "        # Now we use the float conversion factor:\n",
    "        if i[0].lower() == unit_1 and i[2].lower() == unit_2:\n",
    "            new_value = v * c\n",
    "            print(f'I got it! Your value of {v} {unit_1} is the same as {new_value} {unit_2}')\n",
    "            return\n",
    "        elif i[2].lower() == unit_1 and i[0].lower() == unit_2:\n",
    "            new_value = v / c\n",
    "            print(f'I got it! Your value of {v} {unit_1} is the same as {new_value} {unit_2}')\n",
    "            return\n",
    "            \n",
    "    # Step 4: If the above loop ends, and nothing returned, it means we didn't find the conversion, so let's output that message:\n",
    "    print(\"I don't know this conversion. Sooooooorry!\")\n",
    "    return"
   ]
  },
  {
   "cell_type": "code",
   "execution_count": null,
   "id": "5d1a48d3-4fd7-4ca1-bc07-3f19a3d3d2d2",
   "metadata": {},
   "outputs": [],
   "source": [
    "test_checker(converter_v4, test_cases)"
   ]
  },
  {
   "cell_type": "markdown",
   "id": "bb7b38b4-c27b-4ed2-beee-df205e6d024b",
   "metadata": {},
   "source": [
    "Wow, that was a lot, but we got it in the end!! Remember the key steps for solving this challenge:\n",
    "<ul>\n",
    "    <li>Split the problem into smaller, manageable problems. Start small.</li>\n",
    "    <li>Trace your errors, use as many try / except statements as you need to.</li>\n",
    "    <li>Create some basic test cases to make sure everything works as it should.</li>\n",
    "    <li>You may get frustrated when things are not working the way you want them to. It's normal. Take a break and come back to it later. Review each step. Check for syntax errors, wrong input types, etc.</li>\n",
    "</ul>"
   ]
  },
  {
   "cell_type": "markdown",
   "id": "06a10fb8-cc3d-46da-aea9-6fb264d941e1",
   "metadata": {},
   "source": [
    "# (Optional) Challenge: Accepting user's input"
   ]
  },
  {
   "cell_type": "markdown",
   "id": "8fab3a07-8328-4bc7-845c-a593135de7e3",
   "metadata": {},
   "source": [
    "Colby gave us the challenge to use the `input()` function to accept input from the user. Let's do it! I'm not going to go step by step this time, but this is how I implemented it. Note I'm giving the user only a few tries before giving up on them."
   ]
  },
  {
   "cell_type": "code",
   "execution_count": null,
   "id": "fa85fbed-7cb9-496a-a795-e86ef4bfb318",
   "metadata": {},
   "outputs": [],
   "source": [
    "def chat_bot_converter(f_converter):\n",
    "    max_tries = 3\n",
    "    tries = 0\n",
    "    valid = 0\n",
    "    while tries < max_tries:\n",
    "        tries = tries + 1\n",
    "        v = input(\"Please provide the value you want to convert -->\")\n",
    "        if type(v) != int or type(v) != float:\n",
    "            try:\n",
    "                v = float(v)\n",
    "                valid = 1\n",
    "                break\n",
    "            except:\n",
    "                if tries < max_tries:\n",
    "                    print(\"Not a valid value. Your value must be an integer or a float, try again!\")\n",
    "                else:\n",
    "                    print(\"I'm giving up\")\n",
    "                \n",
    "    if valid:\n",
    "        u1 = input(\"Please provide the original unit -->\")\n",
    "        u2 = input(\"Please provide the unit you want to convert to -->\")\n",
    "        f_converter(v, u1, u2)\n",
    "    return ;"
   ]
  },
  {
   "cell_type": "markdown",
   "id": "1a947c28-0733-4539-abda-384b1ca75feb",
   "metadata": {},
   "source": [
    "It checks a couple of times that the user provides the right input value to convert, and gives up after three tries. I could have made it do the same for receiving the conversion units but I got tired, so it just accepts them as they are given and sends them to the converter. We can trust the converter will check them.\n",
    "\n",
    "Try the chatbot by running the cell below, and give it a few weird inputs to see what happens.\n",
    "\n",
    "<b>NOTE:</b> When you run `input()` and it prompts you to type something, it interprets it as string. So if you want to convert from, say, meters, you just need to type `meter` when you are prompted, no need to type quotations marks around them. Check now:"
   ]
  },
  {
   "cell_type": "code",
   "execution_count": null,
   "id": "3df78cf4-5c6c-43d3-8c9f-e6c5f854f23d",
   "metadata": {},
   "outputs": [],
   "source": [
    "chat_bot_converter(converter_v4)"
   ]
  },
  {
   "cell_type": "code",
   "execution_count": null,
   "id": "a4d9f24f-35f9-4278-b176-fa7d61d44830",
   "metadata": {},
   "outputs": [],
   "source": []
  }
 ],
 "metadata": {
  "kernelspec": {
   "display_name": "Python 3 (ipykernel)",
   "language": "python",
   "name": "python3"
  },
  "language_info": {
   "codemirror_mode": {
    "name": "ipython",
    "version": 3
   },
   "file_extension": ".py",
   "mimetype": "text/x-python",
   "name": "python",
   "nbconvert_exporter": "python",
   "pygments_lexer": "ipython3",
   "version": "3.11.5"
  }
 },
 "nbformat": 4,
 "nbformat_minor": 5
}
