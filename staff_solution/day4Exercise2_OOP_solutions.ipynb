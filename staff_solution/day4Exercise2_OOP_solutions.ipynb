{
 "cells": [
  {
   "cell_type": "markdown",
   "metadata": {},
   "source": [
    "## Day 4 - Exercise 2"
   ]
  },
  {
   "cell_type": "markdown",
   "metadata": {},
   "source": [
    "We will build on this morning exercise on unit conversion. Your task is to re-write the solution using the Object Oriented Programming paradigm.\n",
    "\n",
    "To do this, think about the different steps in our solution. Reformulate them as classes with their corresponding methods and properties. Then bring them all together to accomplish what you want!"
   ]
  },
  {
   "cell_type": "markdown",
   "metadata": {},
   "source": [
    "I've copied a version of the solutions below so you can easily refer to them:"
   ]
  },
  {
   "cell_type": "code",
   "execution_count": null,
   "metadata": {},
   "outputs": [],
   "source": [
    "# This is actually a code cell\n",
    "i_am_using_colab = 0                # <-- Change this to 1 if you are using Colab\n",
    "if i_am_using_colab:\n",
    "    !wget https://raw.githubusercontent.com/nuitrcs/pythonBootcamp_4Day/main/conversionMeasures.csv"
   ]
  },
  {
   "cell_type": "markdown",
   "metadata": {},
   "source": [
    "### Loading and cleaning data stage"
   ]
  },
  {
   "cell_type": "markdown",
   "metadata": {},
   "source": [
    "```python\n",
    "# First we load the file, and make a list where each element is a line from the file\n",
    "file_name = 'conversionMeasures.csv'\n",
    "with open(file_name, 'r') as f:\n",
    "    raw_data = f.readlines()\n",
    "\n",
    "# Then we create a new list, where each element is a smaller list:\n",
    "conversion_data = []\n",
    "for line in raw_data:\n",
    "    conversion_data.append(line.rstrip(\"\\n\").split(\",\"))\n",
    "```"
   ]
  },
  {
   "cell_type": "markdown",
   "metadata": {},
   "source": [
    "Let's start with this first step where we obtain the data and we clean the data. Most research pipelines have a **preprocessing** step. The above represents this preprocessing step. In your own research, it will be much more complicated, but having a class that handles all the preprocesing will be very valuable!"
   ]
  },
  {
   "cell_type": "code",
   "execution_count": null,
   "metadata": {},
   "outputs": [],
   "source": [
    "class Preprocessor():\n",
    "    pass"
   ]
  },
  {
   "cell_type": "markdown",
   "metadata": {},
   "source": [
    "OK, what methods and attributes do we want?\n",
    "\n",
    "Regarding methods:\n",
    "* Open and read the file.\n",
    "* Clean the file lines.\n",
    "\n",
    "We also need a way for the user to indicate the file's name. I'll do this in a particular way, but you may design this differently."
   ]
  },
  {
   "cell_type": "code",
   "execution_count": null,
   "metadata": {},
   "outputs": [],
   "source": [
    "class Preprocessor():\n",
    "    def __init__(self):\n",
    "        self.raw_data = []\n",
    "        self.data = []\n",
    "        self.file_name = []\n",
    "\n",
    "    def open_file(self):\n",
    "        with open(self.file_name, \"r\") as f:\n",
    "            self.raw_data = f.readlines()\n",
    "    \n",
    "    def clean_data(self):\n",
    "        for line in self.raw_data:\n",
    "            self.data.append(line.rstrip(\"\\n\").split(\",\"))\n",
    "    \n",
    "    def preprocess(self, file_name):\n",
    "        self.file_name = file_name\n",
    "        self.open_file()\n",
    "        self.clean_data()\n",
    "        return self.data"
   ]
  },
  {
   "cell_type": "markdown",
   "metadata": {},
   "source": [
    "OK, let's try our preprocessor!"
   ]
  },
  {
   "cell_type": "code",
   "execution_count": null,
   "metadata": {},
   "outputs": [],
   "source": [
    "# Step 1: choose the file\n",
    "file_name = 'conversionMeasures.csv'"
   ]
  },
  {
   "cell_type": "code",
   "execution_count": null,
   "metadata": {},
   "outputs": [],
   "source": [
    "# Step 2: Create a preprocessor instance:\n",
    "preprocessor = Preprocessor()"
   ]
  },
  {
   "cell_type": "code",
   "execution_count": null,
   "metadata": {},
   "outputs": [],
   "source": [
    "# Step 3: Ask your preprocessor to load and clean your file!\n",
    "preprocessor.preprocess(file_name)"
   ]
  },
  {
   "cell_type": "markdown",
   "metadata": {},
   "source": [
    "Nice! Let's save this in a variable though. Here is everything summarized:"
   ]
  },
  {
   "cell_type": "code",
   "execution_count": null,
   "metadata": {},
   "outputs": [],
   "source": [
    "file_name = 'conversionMeasures.csv'\n",
    "preprocessor = Preprocessor()\n",
    "conversion_table = preprocessor.preprocess(file_name)"
   ]
  },
  {
   "cell_type": "code",
   "execution_count": null,
   "metadata": {},
   "outputs": [],
   "source": [
    "conversion_table[0:5]"
   ]
  },
  {
   "cell_type": "markdown",
   "metadata": {},
   "source": [
    "Take a look at how much effort was required once the class was created: $3$ lines!!"
   ]
  },
  {
   "cell_type": "markdown",
   "metadata": {},
   "source": [
    "### Converter"
   ]
  },
  {
   "cell_type": "markdown",
   "metadata": {},
   "source": [
    "```python\n",
    "def converter(v, unit_1, unit_2):\n",
    "    # Step 1: Check if input types are valid:\n",
    "    if type(v) != int or type(v) != float:\n",
    "        try:\n",
    "            v = float(v)\n",
    "        except TypeError:\n",
    "            print(f'The value you are trying to convert must be an integer or a float, not a {type(v).__name__}')\n",
    "            return\n",
    "    if type(unit_1) != str or type(unit_2) != str:\n",
    "        print(\"Your units must be strings. Get it together plz.\")\n",
    "        return\n",
    "        \n",
    "    # Step 2: Join strings that are separated\n",
    "    unit_1 = \"_\".join(unit_1.lower().split(\" \")) \n",
    "    unit_2 = \"_\".join(unit_2.lower().split(\" \"))\n",
    "    \n",
    "    # Step 3: Run the for loop we had before, to find the unit conversion\n",
    "    for i in conversion_data:\n",
    "        try:\n",
    "            c = float(i[1])\n",
    "        except ValueError:\n",
    "            c1, c2 = i[1].split(\"/\")\n",
    "            c = float(c1) / float(c2)\n",
    "        if i[0].lower() == unit_1 and i[2].lower() == unit_2:\n",
    "            new_value = v * c\n",
    "            print(f'I got it! Your value of {v} {unit_1} is the same as {new_value} {unit_2}')\n",
    "            return\n",
    "        elif i[2].lower() == unit_1 and i[0].lower() == unit_2:\n",
    "            new_value = v / c\n",
    "            print(f'I got it! Your value of {v} {unit_1} is the same as {new_value} {unit_2}')\n",
    "            return\n",
    "            \n",
    "    # Step 4: No conversion found\n",
    "    print(\"I don't know this conversion. Sooooooorry!\")\n",
    "    return\n",
    "````"
   ]
  },
  {
   "cell_type": "markdown",
   "metadata": {},
   "source": [
    "Converter is quite long. When things become very complex, usually that means we can create several classes out of them. In this case we'll keep it just one converter class:"
   ]
  },
  {
   "cell_type": "code",
   "execution_count": null,
   "metadata": {},
   "outputs": [],
   "source": [
    "class UnitConverter():\n",
    "\n",
    "    def __init__(self, conversion_table):\n",
    "        self.conversion_table = conversion_table\n",
    "\n",
    "    def convert_input(self, v):\n",
    "        # Returns a float version of v if possible. Else it throws an error.\n",
    "        if type(v) != int or type(v) != float:\n",
    "            try:\n",
    "                v = float(v)\n",
    "            except TypeError:\n",
    "                print(f'The value you are trying to convert must be an integer or a float, not a {type(v).__name__}')\n",
    "                return\n",
    "        return v\n",
    "    \n",
    "    def check_units(self, unit1, unit2):\n",
    "        if type(unit1) != str or type(unit2) != str:\n",
    "            print(\"Your units must be strings. Get it together plz.\")\n",
    "            return\n",
    "        return\n",
    "    \n",
    "    def clean_units(self, unit_1, unit_2):\n",
    "        unit_1 = \"_\".join(unit_1.lower().split(\" \"))\n",
    "        unit_2 = \"_\".join(unit_2.lower().split(\" \"))\n",
    "        return unit_1, unit_2\n",
    "    \n",
    "    def clean_conversion_factor(self, conv_fac):\n",
    "        try:\n",
    "            c = float(conv_fac)\n",
    "        except ValueError:\n",
    "            c1, c2 = conv_fac.split(\"/\")\n",
    "            c = float(c1) / float(c2)\n",
    "        return c\n",
    "    \n",
    "    def convert_from_table(self, value, unit_1, unit_2):\n",
    "        for i in self.conversion_table:\n",
    "            cf = self.clean_conversion_factor(i[1])\n",
    "            if i[0].lower() == unit_1 and i[2].lower() == unit_2:\n",
    "                new_value = value * cf\n",
    "                print(f'I got it! Your value of {value} {unit_1} is the same as {new_value} {unit_2}')\n",
    "                return\n",
    "            elif i[2].lower() == unit_1 and i[0].lower() == unit_2:\n",
    "                new_value = value / cf\n",
    "                print(f'I got it! Your value of {value} {unit_1} is the same as {new_value} {unit_2}')\n",
    "                return\n",
    "        print(\"Sorry. No conversion found.\")\n",
    "        return\n",
    "    \n",
    "    def convert(self, value, unit_1, unit_2):\n",
    "        value = self.convert_input(value)\n",
    "        self.check_units(unit_1, unit_2)\n",
    "        unit_1, unit_2 = self.clean_units(unit_1, unit_2)\n",
    "        self.convert_from_table(value, unit_1, unit_2)\n",
    "        return"
   ]
  },
  {
   "cell_type": "code",
   "execution_count": null,
   "metadata": {},
   "outputs": [],
   "source": [
    "converter = UnitConverter(conversion_table)\n",
    "converter.convert(3, \"kilometer\", \"meter\")"
   ]
  },
  {
   "cell_type": "markdown",
   "metadata": {},
   "source": [
    "### Testing"
   ]
  },
  {
   "cell_type": "markdown",
   "metadata": {},
   "source": [
    "```python\n",
    "# Step 1. Put the test cases in a list of dictionaries:\n",
    "test_cases = [{\"test_unit\":   \"pint\",        \"test_value\": 2.5,   \"final_unit\": \"mL\"},\n",
    "                {\"test_unit\": \"cubic foot\",  \"test_value\": 30,    \"final_unit\": \"liter\"},\n",
    "                {\"test_unit\": \"slug\",        \"test_value\": \"4.8\", \"final_unit\": \"pound\"},\n",
    "                {\"test_unit\": \"slug\",        \"test_value\": 27.0,  \"final_unit\": \"snail\"},\n",
    "                {\"test_unit\": [],            \"test_value\": 2.5,   \"final_unit\": \"meter\"},\n",
    "                {\"test_unit\": \"kilometer\",   \"test_value\": [],    \"final_unit\": \"meter\"},\n",
    "                {\"test_unit\": \"KM/H\",        \"test_value\": 8.4,   \"final_unit\": \"m/Sec\"},\n",
    "                {\"test_unit\": \"ergs\",        \"test_value\": 8.4,   \"final_unit\": \"joule\"},\n",
    "                {\"test_unit\": \"tablespoons\", \"test_value\": 2,     \"final_unit\": \"cup\"}\n",
    "]\n",
    "````"
   ]
  },
  {
   "cell_type": "markdown",
   "metadata": {},
   "source": [
    "```python\n",
    "# Step 2. Create a function that checks our converter for all tests\n",
    "def test_checker(f_converter, test_cases):\n",
    "    n_case = 0\n",
    "    for test in test_cases:\n",
    "        try:\n",
    "            f_converter(test[\"test_value\"], test[\"test_unit\"], test[\"final_unit\"])\n",
    "            print(f\"(Test case number {n_case} passed)\\n\")\n",
    "        except (TypeError, ValueError):\n",
    "            print(f\"(Test case number {n_case} failed)\\n\")\n",
    "        n_case = n_case + 1\n",
    "    return\n",
    "````"
   ]
  },
  {
   "cell_type": "markdown",
   "metadata": {},
   "source": [
    "I will add the test cases as a property of our test checker class (which I will name `Tester`).\n",
    "\n",
    "Note that before we used to pass a **function** to the converter. Now let's pass an object of class `UnitConverter`."
   ]
  },
  {
   "cell_type": "code",
   "execution_count": null,
   "metadata": {},
   "outputs": [],
   "source": [
    "class ConversionTester():\n",
    "    # Class property\n",
    "    test_cases = [{\"test_unit\":   \"pint\",        \"test_value\": 2.5,   \"final_unit\": \"mL\"},\n",
    "                {\"test_unit\": \"cubic foot\",  \"test_value\": 30,    \"final_unit\": \"liter\"},\n",
    "                {\"test_unit\": \"slug\",        \"test_value\": \"4.8\", \"final_unit\": \"pound\"},\n",
    "                {\"test_unit\": \"slug\",        \"test_value\": 27.0,  \"final_unit\": \"snail\"},\n",
    "                {\"test_unit\": [],            \"test_value\": 2.5,   \"final_unit\": \"meter\"},\n",
    "                {\"test_unit\": \"kilometer\",   \"test_value\": [],    \"final_unit\": \"meter\"},\n",
    "                {\"test_unit\": \"KM/H\",        \"test_value\": 8.4,   \"final_unit\": \"m/Sec\"},\n",
    "                {\"test_unit\": \"ergs\",        \"test_value\": 8.4,   \"final_unit\": \"joule\"},\n",
    "                {\"test_unit\": \"tablespoons\", \"test_value\": 2,     \"final_unit\": \"cup\"}\n",
    "    ]\n",
    "\n",
    "    def test_converter(self, converter):\n",
    "        # Note converter is a function (for now)!\n",
    "        for n_case, test in enumerate(self.test_cases):\n",
    "            try:\n",
    "                converter.convert(test[\"test_value\"], test[\"test_unit\"], test[\"final_unit\"])\n",
    "                print(f\"(Test case number {n_case} passed)\\n\")\n",
    "            except:\n",
    "                print(f\"(Test case number {n_case} failed)\\n\")\n",
    "        return"
   ]
  },
  {
   "cell_type": "markdown",
   "metadata": {},
   "source": [
    "Notice I'm not defining an `__init__()` function. That's because, for now at least, I don't need it to do anything special for initialization."
   ]
  },
  {
   "cell_type": "code",
   "execution_count": null,
   "metadata": {},
   "outputs": [],
   "source": [
    "tester = ConversionTester()\n",
    "tester.test_converter(converter)"
   ]
  },
  {
   "cell_type": "markdown",
   "metadata": {},
   "source": [
    "### User Input"
   ]
  },
  {
   "cell_type": "markdown",
   "metadata": {},
   "source": [
    "```python\n",
    "def chat_bot_converter(f_converter):\n",
    "    max_tries = 3\n",
    "    tries = 0\n",
    "    valid = 0\n",
    "    while tries < max_tries:\n",
    "        tries = tries + 1\n",
    "        v = input(\"Please provide the value you want to convert -->  \")\n",
    "        if type(v) != int or type(v) != float:\n",
    "            try:\n",
    "                v = float(v)\n",
    "                valid = 1\n",
    "                break\n",
    "            except (TypeError, ValueError):\n",
    "                if tries < max_tries:\n",
    "                    print(\"Not a valid value. Your value must be an integer or a float, try again!\")\n",
    "                else:\n",
    "                    print(\"I'm giving up\")\n",
    "                \n",
    "    if valid:\n",
    "        u1 = input(\"Please provide the original unit -->\")\n",
    "        u2 = input(\"Please provide the unit you want to convert to -->\")\n",
    "        f_converter(v, u1, u2)\n",
    "    return\n",
    "````"
   ]
  },
  {
   "cell_type": "code",
   "execution_count": null,
   "metadata": {},
   "outputs": [],
   "source": [
    "class BotConverter():\n",
    "    max_tries = 3\n",
    "    def __init__(self):\n",
    "        self.tries = 0\n",
    "        self.valid = 0\n",
    "        self.converter = None\n",
    "    \n",
    "    def add_converter(self, converter):\n",
    "        self.converter = converter\n",
    "        return\n",
    "    \n",
    "    def check_value(self, v):\n",
    "        self.tries += 1\n",
    "        if type(v) != int or type(v) != float:\n",
    "            try:\n",
    "                v = float(v)\n",
    "                self.valid = 1\n",
    "            except (TypeError, ValueError):\n",
    "                if self.tries < self.max_tries:\n",
    "                    print(\"Not a valid value. Your value must be an integer or a float, try again!\")\n",
    "                else:\n",
    "                    print(\"I'm giving up\")\n",
    "        return v\n",
    "    \n",
    "    def input_loop(self):\n",
    "        while (self.valid == 0) and (self.tries < self.max_tries):\n",
    "            v = input(\"Please provide the value you want to convert -->  \")\n",
    "            v = self.check_value(v)\n",
    "        return v\n",
    "    \n",
    "    def chat(self):\n",
    "        self.valid = 0\n",
    "        self.tries = 0\n",
    "        v = self.input_loop()\n",
    "        if self.valid:\n",
    "            u1 = input(\"Please provide the original unit -->  \")\n",
    "            u2 = input(\"Please provide the unit you want to convert to -->  \")\n",
    "            self.converter.convert(v, u1, u2)\n",
    "        return\n"
   ]
  },
  {
   "cell_type": "code",
   "execution_count": null,
   "metadata": {},
   "outputs": [],
   "source": [
    "bender = BotConverter()\n",
    "bender.add_converter(converter)"
   ]
  },
  {
   "cell_type": "code",
   "execution_count": null,
   "metadata": {},
   "outputs": [],
   "source": [
    "bender.chat()"
   ]
  },
  {
   "cell_type": "markdown",
   "metadata": {},
   "source": [
    "### Conclusion"
   ]
  },
  {
   "cell_type": "markdown",
   "metadata": {},
   "source": [
    "Great, we've OOPified everything now. In our case it happened in a very straighforward way, we mostly just turned little pieces of code into class methods. It helped that we had already organized it in stages before. BUT, this will not always be the case. The more experience you gain, the easier this will become, and the more powerful the systems you build will be!"
   ]
  },
  {
   "cell_type": "markdown",
   "metadata": {},
   "source": [
    "Now that we have built the classes we want, the whole pipeline is very straighforward. Note that we could re-use this classes for further applications and projects, we could combine them in different order, etc.\n",
    "\n",
    "Here's how things would look once all classes have been defined:"
   ]
  },
  {
   "cell_type": "code",
   "execution_count": null,
   "metadata": {},
   "outputs": [],
   "source": [
    "# Preprocessing Stage\n",
    "file_name = 'conversionMeasures.csv'\n",
    "preprocessor = Preprocessor()\n",
    "conversion_table = preprocessor.preprocess(file_name)\n",
    "\n",
    "# Create Converter\n",
    "converter = UnitConverter(conversion_table)\n",
    "\n",
    "# Test Converter\n",
    "tester = ConversionTester()\n",
    "tester.test_converter(converter)\n",
    "\n",
    "# Chat with the converter\n",
    "bender = BotConverter()\n",
    "bender.add_converter(converter)\n",
    "bender.chat()"
   ]
  },
  {
   "cell_type": "code",
   "execution_count": null,
   "metadata": {},
   "outputs": [],
   "source": []
  }
 ],
 "metadata": {
  "kernelspec": {
   "display_name": "base",
   "language": "python",
   "name": "python3"
  },
  "language_info": {
   "codemirror_mode": {
    "name": "ipython",
    "version": 3
   },
   "file_extension": ".py",
   "mimetype": "text/x-python",
   "name": "python",
   "nbconvert_exporter": "python",
   "pygments_lexer": "ipython3",
   "version": "3.11.5"
  }
 },
 "nbformat": 4,
 "nbformat_minor": 2
}
