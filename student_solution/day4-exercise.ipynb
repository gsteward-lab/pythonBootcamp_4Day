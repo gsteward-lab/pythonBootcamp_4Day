{
 "cells": [
  {
   "cell_type": "markdown",
   "metadata": {},
   "source": [
    "## Day 4 Exercise – Conversion Calculator Answers"
   ]
  },
  {
   "cell_type": "markdown",
   "metadata": {},
   "source": [
    "### Goal\n",
    "Write Python code that converts a giv3en value from its original unit to a different unit using the data file `conversionMeasures.csv`."
   ]
  },
  {
   "cell_type": "markdown",
   "metadata": {},
   "source": [
    "### Part 1: Read the File into Dictionary"
   ]
  },
  {
   "cell_type": "code",
   "execution_count": 4,
   "metadata": {},
   "outputs": [
    {
     "name": "stdout",
     "output_type": "stream",
     "text": [
      "{'kilometer': ['0.6214', 'mile'], 'meter': ['39.37', 'inch'], 'inch': ['2.54', 'centimeter'], 'foot': ['30.48', 'centimeter'], 'mile': ['1.609', 'kilometer'], 'centimeter': ['0.3937', 'inch'], 'square_meter': ['10.76', 'square_foot'], 'square_mile': ['640', 'acres'], 'square_foot': ['929', 'cm2'], 'acre': ['43560', 'square_foot'], 'liter': ['0.03532', 'cubic_foot'], 'cubic_meter': ['35.32', 'cubic_foot'], 'cubic_foot': ['28.32', 'liter'], 'gallon': ['3.785', 'liter'], 'british_gallon': ['277.4', 'cubic_inch'], 'kilogram': ['0.06852', 'slug'], 'pound': ['16', 'ounce'], 'slug': ['14.59', 'kg'], 'km/h': ['0.9113', 'ft/sec'], 'mi/h': ['0.4470', 'm/sec'], 'short_ton': ['2000', 'pound'], 'long_ton': ['2240', 'pound'], 'metric_ton': ['2205', 'pound'], 'joule': ['0.2389', 'calorie'], 'calorie': ['4.186', 'joules'], 'watt': ['0.2389', 'cal/sec'], 'tablespoon': ['3', 'teaspoon'], 'tablespoons': ['.0625', 'cup'], 'cup': ['240', 'mL'], 'pint': ['475', 'mL'], 'ounce': ['28', 'gram'], 'teaspoon': ['5', 'mL']}\n"
     ]
    }
   ],
   "source": [
    "import os\n",
    "import csv\n",
    "\n",
    "#Setting working directory\n",
    "os.chdir(os.path.abspath('C:/Users/ayk7084/OneDrive - Northwestern University/Documents/GitHub/pythonBootcamp_4Day'))\n",
    "\n",
    "#Opening and printing the csv file\n",
    "with open('conversionMeasures.csv', 'r', newline='') as csv_file:\n",
    "    conv_meas = csv.reader(csv_file, delimiter=',')\n",
    "    conv_meas_list = list(conv_meas)\n",
    "\n",
    "def list_to_dict(list_name):\n",
    "    dict = {}\n",
    "    for line in list_name:\n",
    "        key = line[0]\n",
    "        values = line[1:]\n",
    "        dict[key] = values\n",
    "    return dict       \n",
    "\n",
    "conv_meas_dict = list_to_dict(conv_meas_list)\n",
    "print(conv_meas_dict)"
   ]
  },
  {
   "cell_type": "markdown",
   "metadata": {},
   "source": [
    "### Part 2: Identify Conversion Factor from Data Object"
   ]
  },
  {
   "cell_type": "code",
   "execution_count": 36,
   "metadata": {},
   "outputs": [
    {
     "name": "stdout",
     "output_type": "stream",
     "text": [
      "2.50 pints is equal to 1187.50 mLs.\n"
     ]
    }
   ],
   "source": [
    "def convert_units(from_unit, to_unit, test_value):\n",
    "    #Load in dictionary\n",
    "    #Setting working directory\n",
    "    os.chdir(os.path.abspath('C:/Users/ayk7084/OneDrive - Northwestern University/Documents/GitHub/pythonBootcamp_4Day'))\n",
    "\n",
    "    #Opening and printing the csv file\n",
    "    with open('conversionMeasures.csv', 'r', newline='') as csv_file:\n",
    "        conv_meas = csv.reader(csv_file, delimiter=',')\n",
    "        conv_meas_list = list(conv_meas)\n",
    "\n",
    "    #Convert test_value to float\n",
    "    test_value = float(test_value)\n",
    "\n",
    "    #Replace spaces with '_'s in to_units and from_units\n",
    "    to_unit_form = to_unit.replace(\" \", \"_\")\n",
    "    from_unit_form = from_unit.replace(\" \", \"_\")\n",
    "\n",
    "    #Check if the units are in the dictionary\n",
    "    valid_units = []\n",
    "    for convs in conv_meas_list:\n",
    "        if convs[0] == from_unit_form:\n",
    "            valid_units.append(convs)\n",
    "    if valid_units == []:\n",
    "        return \"Please specify a valid starting unit.\"\n",
    "\n",
    "    for units in valid_units:\n",
    "        if units[2] == to_unit_form: \n",
    "            converted_value = test_value * float(units[1])\n",
    "            return f\"{test_value:.2f} {from_unit}s is equal to {converted_value:.2f} {to_unit}s.\"\n",
    "    return \"Please specify a valid target unit.\"\n",
    "    \n",
    "\n",
    "print(convert_units(\"pint\", \"mL\", 2.5))"
   ]
  }
 ],
 "metadata": {
  "kernelspec": {
   "display_name": "PythonBootcamp",
   "language": "python",
   "name": "python3"
  },
  "language_info": {
   "codemirror_mode": {
    "name": "ipython",
    "version": 3
   },
   "file_extension": ".py",
   "mimetype": "text/x-python",
   "name": "python",
   "nbconvert_exporter": "python",
   "pygments_lexer": "ipython3",
   "version": "3.13.1"
  }
 },
 "nbformat": 4,
 "nbformat_minor": 2
}
