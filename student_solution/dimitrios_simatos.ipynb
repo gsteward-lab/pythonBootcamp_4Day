{
 "cells": [
  {
   "cell_type": "markdown",
   "id": "ce11e51f-6052-47e4-bd25-a689e54df80e",
   "metadata": {},
   "source": [
    "# <br><br><span style=\"color:purple\">Python Fundamentals Bootcamp - Day 4</span>"
   ]
  },
  {
   "cell_type": "markdown",
   "id": "35ed0b29-ff78-420c-b4b4-df15a7a6f747",
   "metadata": {},
   "source": [
    "### Python notebook and script organization\n",
    "\n",
    "Code should be organized in the following order:\n",
    "\n",
    "1. A description of what the notebook or script does, what type of data you must or can use (file type, required columns, etc.), and what products (files, visualizations, reports, etc.) are made.\n",
    "2. import any packages used\n",
    "3. define any input or output filenames, saving the file paths as variables\n",
    "4. any data structures that will be used in the code (dictionaries, lists, etc.)\n",
    "5. define any custom functions or objects that will be used in the body of the code\n",
    "6. body of the code (calling functions, looping, cleaning data, doing calculations, etc.)"
   ]
  },
  {
   "cell_type": "markdown",
   "id": "bc3b8146-402b-454f-bd9e-4885e6cc3e94",
   "metadata": {},
   "source": [
    "## <br><br><span style=\"color:teal\">Unit Conversion Calculator"
   ]
  },
  {
   "cell_type": "markdown",
   "id": "1b200677-b6d2-472d-8b90-6b08ac1affde",
   "metadata": {},
   "source": [
    "### Objective\n",
    "\n",
    "- Write Python code that **converts** a **given value** from its **original unit** to a **different unit**.\n",
    "- In today's folder, there is a file called `conversionMeasures.csv`. It contains lines of data and has **no header**.\n",
    "- Each line has three pieces of data, separated by commas: `unit 1`, `conversion factor`, `unit 2`.\n",
    "- The conversion equation for all of these lines is `unit 1 x conversion factor = unit 2`."
   ]
  },
  {
   "cell_type": "markdown",
   "id": "988a9db4-52a5-410a-8b6a-adce0a936083",
   "metadata": {},
   "source": [
    "### Specifications\n",
    "\n",
    "Your code should:\n",
    "- **store** the conversion data from the `.csv` file in some **object** (list of lists, dictionary of dictionaries, etc.)\n",
    "    - <mark>If using a dictionary to store the data, keep in mind that its **keys** have to be **unique**.</mark>\n",
    "- provide a way to **find the correct conversion factor** from your data object\n",
    "- include a **function** to convert between units\n",
    "- **print out a full sentence response** with the final answer\n",
    "- anticipate some **errors** (see below)\n",
    "- run your code on the provided **test examples**"
   ]
  },
  {
   "cell_type": "code",
   "execution_count": 645,
   "id": "4e90bc55-88a2-4f68-ac1b-51b0922b30cf",
   "metadata": {},
   "outputs": [],
   "source": [
    "conversion_measures = \"conversionMeasures.csv\""
   ]
  },
  {
   "cell_type": "code",
   "execution_count": 706,
   "id": "8f6eaa51-e430-4278-bad4-3a76fee0d8f5",
   "metadata": {},
   "outputs": [
    {
     "name": "stdout",
     "output_type": "stream",
     "text": [
      "[['kilometer', '1000', 'meter'], ['meter', '100', 'centimeter'], ['inch', '2.54', 'centimeter'], ['foot', '30.48', 'centimeter'], ['mile', '1.609', 'kilometer'], ['centimeter', '0.3937', 'inch'], ['meter', '39.37', 'inch'], ['kilometer', '0.6214', 'mile'], ['square_meter', '10.76', 'square_foot'], ['square_mile', '640', 'acres'], ['square_foot', '929', 'cm2'], ['acre', '43560', 'square_foot'], ['liter', '1000', 'cm3'], ['liter', '1.057', 'quart'], ['liter', '61.02', 'cubic_inch'], ['liter', '0.03532', 'cubic_foot'], ['cubic_meter', '1000', 'liter'], ['cubic_meter', '35.32', 'cubic_foot'], ['cubic_foot', '7.481', 'gallon'], ['cubic_foot', '0.02832', 'cubic_meter'], ['cubic_foot', '28.32', 'liter'], ['gallon', '231', 'cubic_inch'], ['gallon', '3.785', 'liter'], ['british_gallon', '1.201', 'gallon'], ['british_gallon', '277.4', 'cubic_inch'], ['kilogram', '2.2046', 'pound'], ['kilogram', '0.06852', 'slug'], ['pound', '453.6', 'gram'], ['pound', '0.03108', 'slug'], ['pound', '16', 'ounce'], ['slug', '32.174', 'pound'], ['slug', '14.59', 'kg'], ['km/h', '0.2778', 'm/sec'], ['km/h', '0.6214', 'mi/h'], ['km/h', '0.9113', 'ft/sec'], ['mi/h', '1.467', 'ft/sec'], ['mi/h', '1.609', 'km/h'], ['mi/h', '0.4470', 'm/sec'], ['short_ton', '2000', 'pound'], ['long_ton', '2240', 'pound'], ['metric_ton', '2205', 'pound'], ['joule', '107', 'ergs'], ['joule', '0.2389', 'calorie'], ['calorie', '4.186', 'joules'], ['watt', '1', 'joule/sec'], ['watt', '107', 'ergs/sec'], ['watt', '0.2389', 'cal/sec'], ['tablespoon', '3', 'teaspoon'], ['tablespoons', '1/4', 'cup'], ['cup', '240', 'mL'], ['pint', '475', 'mL'], ['ounce', '28', 'gram'], ['teaspoon', '5', 'mL']]\n"
     ]
    }
   ],
   "source": [
    "### Example solution given by the instructor - Storing the database in a list of lists:\n",
    "\n",
    "conversion_list = []\n",
    "\n",
    "with open(conversion_measures, \"r\") as f: # Open the file\n",
    "    for line in f.readlines():\n",
    "        clean_line = line.rstrip(\"\\n\").split(\",\")\n",
    "        conversion_list.append(clean_line)\n",
    "\n",
    "print(conversion_list)"
   ]
  },
  {
   "cell_type": "code",
   "execution_count": 482,
   "id": "3abc452d-8fa3-43ea-ab99-69801da1d092",
   "metadata": {},
   "outputs": [],
   "source": [
    "### Solution provided by the instructor\n",
    "\n",
    "def convert(given_unit, given_value, desired_unit):\n",
    "    # First look up the right conversion factor by matching the given unit and desired unit\n",
    "    \n",
    "    error_flag = 0\n",
    "    \n",
    "    for line in conversion_list:\n",
    "        if given_unit == line[0] and desired_unit == line[2]:\n",
    "            conversion_factor = float(line[1]) # The conversion factors in our list are strings, so change them to floats.\n",
    "        \n",
    "        elif given_unit.replace(\" \", \"_\") == line[0] and desired_unit.replace(\" \", \"_\") == line[2]:\n",
    "            conversion_factor = float(line[1]) # The conversion factors in our list are strings, so change them to floats.\n",
    "        \n",
    "        else:\n",
    "            error_flag = 1\n",
    "\n",
    "    # Second, do the conversion! Multiply the conversion factor by the given value.\n",
    "    if error_flag == 0:\n",
    "        answer = conversion_factor * float(given_value)\n",
    "    \n",
    "    else:\n",
    "        answer = \"Units not found in database.\"\n",
    "    \n",
    "    return answer"
   ]
  },
  {
   "cell_type": "code",
   "execution_count": 494,
   "id": "1d16a8b4-8d67-4b47-89b9-93c0ebe86d46",
   "metadata": {},
   "outputs": [],
   "source": [
    "### Solution provided by the instructor (different error handling)\n",
    "\n",
    "def convert(given_unit, given_value, desired_unit):\n",
    "    # First look up the right conversion factor by matching the given unit and desired unit\n",
    "    \n",
    "    for line in conversion_list:\n",
    "        if given_unit == line[0] and desired_unit == line[2]:\n",
    "            conversion_factor = float(line[1]) # The conversion factors in our list are strings, so change them to floats.\n",
    "            return conversion_factor * float(given_value)\n",
    "        \n",
    "        elif given_unit.replace(\" \", \"_\") == line[0] and desired_unit.replace(\" \", \"_\") == line[2]:\n",
    "            conversion_factor = float(line[1]) # The conversion factors in our list are strings, so change them to floats.\n",
    "            return conversion_factor * float(given_value)\n",
    "        else:\n",
    "            answer = \"Units not found in database.\"\n",
    "    \n",
    "    return answer"
   ]
  },
  {
   "cell_type": "code",
   "execution_count": 619,
   "id": "6db459b6-6ec2-4ae4-b918-3ae4cb311ade",
   "metadata": {},
   "outputs": [],
   "source": [
    "# My solution\n",
    "\n",
    "conversion_measures_list = [] # A list containing the entries of the conversion measures\n",
    "conversion_measures_dict = {} # A dictionary to store the data.\n",
    "\n",
    "def Unit_Converter(test_unit, test_value, final_unit):\n",
    "    with open(conversion_measures, \"r\") as f: # Open the file\n",
    "        conversion_measures_list = f.read().split(\"\\n\") # Store the conversion entries (lines) into a list\n",
    "        for entry in conversion_measures_list: # For each entry (line)\n",
    "            entry = entry.replace(\" \", \"-\").lower() # Replace whitespaces with dashes to avoid problems when using them as dictionary keys. Convert to lowercase.\n",
    "            element_list = entry.split(\",\") # Split each entry to a list of elements with a comma delimiter\n",
    "            dict_key = element_list[0] + \"_\" + element_list[2] # Define the dictionary key as a string concatenation between the test and final unit\n",
    "            conversion_measures_dict[dict_key] = element_list[1] # The dictionary value will be the test_value\n",
    "        \n",
    "    # Perform the unit conversion\n",
    "    test_unit = test_unit.replace(\" \", \"_\").lower() # Replace whitespaces with underscores and make letters lowercase to compare with dictionary keys\n",
    "    final_unit = final_unit.replace(\" \", \"_\").lower() # Replace whitespaces with underscores and make letters lowercase to compare with dictionary keys\n",
    "    dict_key = test_unit + \"_\" + final_unit # Define the dictionary key as a string concatenation between the test and final unit\n",
    "\n",
    "    if dict_key in conversion_measures_dict.keys(): # If the test and final units exist in the dictionary, proceed\n",
    "        try: # Try to perform the calculation and see if there's an error\n",
    "            # Calculate the converted units. The conversion factors in our list are strings, so change them to floats.\n",
    "            # eval() is used to allow fractions to be converted to floats.\n",
    "            final_value = round(float(eval(conversion_measures_dict[dict_key])) * test_value, 2)\n",
    "        except TypeError: # If the test_value is a string, convert it to float and re-calculate\n",
    "            test_value = float(test_value)\n",
    "            print(\"Do not input numbers as strings! Be careful!\\n\")\n",
    "            # Calculate the converted units. The conversion factors in our list are strings, so change them to floats.\n",
    "            # eval() is used to allow fractions to be converted to floats.\n",
    "            final_value = round(float(eval(conversion_measures_dict[dict_key])) * test_value, 2)\n",
    "        \n",
    "        return print(f\"{test_value} {test_unit} can be converted to {final_value} {final_unit}. The conversion factor is {conversion_measures_dict[dict_key]}.\")\n",
    "        \n",
    "    else: # If the test and final units do not exist in the dictionary, notify the user\n",
    "        return print(\"The units you asked for are not available in this database.\")"
   ]
  },
  {
   "cell_type": "markdown",
   "id": "53fa99f7-2b02-47ff-b17a-e52895eb9f52",
   "metadata": {},
   "source": [
    "### Test samples\n",
    "\n",
    "Your code should be able to convert the following test samples:\n",
    "\n",
    "```python\n",
    "test_unit = \"pint\"\n",
    "test_value = 2.5\n",
    "final_unit = \"mL\"\n",
    "\n",
    "test_unit = \"cubic foot\" # Notice that \"cubic foot\" is written as \"cubic_foot\" in the database\n",
    "test_value = 30\n",
    "final_unit = \"liter\"\n",
    "\n",
    "test_unit = \"slug\"\n",
    "test_value = \"4.8\"\t# Yes, you should write your code to handle values that are entered as strings\n",
    "final_unit = \"pound\"\n",
    "\n",
    "test_unit = \"slug\"\n",
    "test_value = 27.0\n",
    "final_unit = \"snail\" # See 'Errors to anticipate' below\n",
    "```"
   ]
  },
  {
   "cell_type": "code",
   "execution_count": 621,
   "id": "63a6a8ac-dfe2-461d-a28a-5b5db883b3bc",
   "metadata": {},
   "outputs": [
    {
     "name": "stdout",
     "output_type": "stream",
     "text": [
      "2.5 pint can be converted to 1187.5 ml. The conversion factor is 475.\n"
     ]
    }
   ],
   "source": [
    "Unit_Converter(\"pint\", 2.5, \"mL\")"
   ]
  },
  {
   "cell_type": "code",
   "execution_count": 623,
   "id": "66f4e5d0-8ff3-4b44-9731-f3d18c02d765",
   "metadata": {},
   "outputs": [
    {
     "name": "stdout",
     "output_type": "stream",
     "text": [
      "30 cubic_foot can be converted to 849.6 liter. The conversion factor is 28.32.\n"
     ]
    }
   ],
   "source": [
    "Unit_Converter(\"cubic foot\", 30, \"liter\")"
   ]
  },
  {
   "cell_type": "code",
   "execution_count": 585,
   "id": "b1434f1a-422e-44f6-9088-d04fe55741b8",
   "metadata": {},
   "outputs": [
    {
     "name": "stdout",
     "output_type": "stream",
     "text": [
      "Do not input numbers as strings! Be careful!\n",
      "\n",
      "4.8 slug can be converted to 154.44 pound. The conversion factor is 32.174.\n"
     ]
    }
   ],
   "source": [
    "Unit_Converter(\"slug\", \"4.8\", \"pound\")"
   ]
  },
  {
   "cell_type": "code",
   "execution_count": 625,
   "id": "30aaff65-ece0-45e2-8f7f-2513b9f09a64",
   "metadata": {},
   "outputs": [
    {
     "name": "stdout",
     "output_type": "stream",
     "text": [
      "The units you asked for are not available in this database.\n"
     ]
    }
   ],
   "source": [
    "Unit_Converter(\"slug\", 27.0, \"snail\")"
   ]
  },
  {
   "cell_type": "markdown",
   "id": "788e0891-0f8f-457b-8a51-bba4664cd8d4",
   "metadata": {},
   "source": [
    "One of the conversion factors is a **fraction** (`1/4`) and produces an error:\n",
    "- Search [online](https://stackoverflow.com/questions/60933709/cannot-convert-input-as-fraction-string-to-float) for how a fraction can be converted to a float."
   ]
  },
  {
   "cell_type": "code",
   "execution_count": 674,
   "id": "942883fd-7c73-4b50-aa69-893939194a22",
   "metadata": {},
   "outputs": [
    {
     "name": "stdout",
     "output_type": "stream",
     "text": [
      "3 tablespoons can be converted to 0.75 cup. The conversion factor is 1/4.\n"
     ]
    }
   ],
   "source": [
    "Unit_Converter(\"tablespoons\", 3, \"cup\")"
   ]
  },
  {
   "cell_type": "markdown",
   "id": "000f4a43-a590-40f9-b48f-c13fd1509a94",
   "metadata": {},
   "source": [
    "### Errors to anticipate:\n",
    "\n",
    "\n",
    "1.\tSomeone might give the initial value as a string instead of a float/integer.\n",
    "2.\tSomeone might request a final unit that is not in your data – your code should print out an error message.\n",
    "\n",
    "Here’s a sample to test for this error:\n",
    "\n",
    "```python\n",
    "test_unit = \"slug\"\n",
    "test_value = 27.0\n",
    "final_unit = \"snail\"\n",
    "```"
   ]
  },
  {
   "cell_type": "markdown",
   "id": "9d9f1369-3bb5-46b4-a549-c5db0d2c3a66",
   "metadata": {},
   "source": [
    "### Bonus Challenges"
   ]
  },
  {
   "cell_type": "markdown",
   "id": "8b1b5481-a961-44cc-b641-74d5f7383129",
   "metadata": {},
   "source": [
    "1.\tSomeone might give a test or final unit that has **different capitalization** than how it is presented in the `.csv` file. Edit your code so that it can still process this sample:\n",
    "\n",
    "```python\n",
    "test_unit = \"KM/H\"\n",
    "test_value = 8.4\n",
    "final_unit = \"m/Sec\"\n",
    "````"
   ]
  },
  {
   "cell_type": "code",
   "execution_count": 635,
   "id": "eb32c3ef-6c0f-4c74-ab39-68ed17d77750",
   "metadata": {},
   "outputs": [
    {
     "name": "stdout",
     "output_type": "stream",
     "text": [
      "8.4 km/h can be converted to 2.33 m/sec. The conversion factor is 0.2778.\n"
     ]
    }
   ],
   "source": [
    "Unit_Converter(\"KM/H\", 8.4, \"m/Sec\")"
   ]
  },
  {
   "cell_type": "markdown",
   "id": "8ad25b93-aa8b-4ceb-8298-fbaad3d283e8",
   "metadata": {},
   "source": [
    "2.\tIn the csv file, not all the units are included on both sides of the conversion factor.\n",
    "- Someone might give you a test unit from the **right side** of the factor and ask you to convert it to the unit on the **left side**, which would require **division** instead of multiplication.\n",
    "- Edit your code so that it can process this sample:\n",
    "\n",
    "```python\n",
    "test_unit = \"ergs\"\n",
    "test_value = 8.4\n",
    "final_unit = \"joule\"\n",
    "```"
   ]
  },
  {
   "cell_type": "code",
   "execution_count": 653,
   "id": "09332647-5f04-4733-8d33-c2bf83f0f4ba",
   "metadata": {},
   "outputs": [],
   "source": [
    "# My solution\n",
    "\n",
    "conversion_measures_list = [] # A list containing the entries of the conversion measures\n",
    "conversion_measures_dict = {} # A dictionary to store the data.\n",
    "\n",
    "def Unit_Converter_Bidirectional(test_unit, test_value, final_unit):\n",
    "    with open(conversion_measures, \"r\") as f: # Open the file\n",
    "        conversion_measures_list = f.read().split(\"\\n\") # Store the conversion entries (lines) into a list\n",
    "        for entry in conversion_measures_list: # For each entry (line)\n",
    "            entry = entry.replace(\" \", \"-\").lower() # Replace whitespaces with dashes to avoid problems when using them as dictionary keys. Convert to lowercase.\n",
    "            element_list = entry.split(\",\") # Split each entry to a list of elements with a comma delimiter\n",
    "            dict_key = element_list[0] + \"_\" + element_list[2] # Define the dictionary key as a string concatenation between the test and final unit\n",
    "            conversion_measures_dict[dict_key] = element_list[1] # The dictionary value will be the test_value\n",
    "        \n",
    "    # Perform the unit conversion\n",
    "    test_unit = test_unit.replace(\" \", \"_\").lower() # Replace whitespaces with underscores and make letters lowercase to compare with dictionary keys\n",
    "    final_unit = final_unit.replace(\" \", \"_\").lower() # Replace whitespaces with underscores and make letters lowercase to compare with dictionary keys\n",
    "    dict_key = test_unit + \"_\" + final_unit # Define the dictionary key as a string concatenation between the test and final unit\n",
    "    dict_key_reverse = final_unit + \"_\" + test_unit # Define the reverse dictionary key as well\n",
    "\n",
    "    if dict_key in conversion_measures_dict.keys(): # If the test and final units exist in the dictionary, proceed\n",
    "        try: # Try to perform the calculation and see if there's an error\n",
    "            # Calculate the converted units. The conversion factors in our list are strings, so change them to floats.\n",
    "            # eval() is used to allow fractions to be converted to floats.\n",
    "            final_value = round(float(eval(conversion_measures_dict[dict_key])) * test_value, 2)\n",
    "        except TypeError: # If the test_value is a string, convert it to float and re-calculate\n",
    "            test_value = float(test_value)\n",
    "            print(\"Do not input numbers as strings! Be careful!\\n\")\n",
    "            # Calculate the converted units. The conversion factors in our list are strings, so change them to floats.\n",
    "            # eval() is used to allow fractions to be converted to floats.\n",
    "            final_value = round(float(eval(conversion_measures_dict[dict_key])) * test_value, 2)\n",
    "        \n",
    "        return print(f\"{test_value} {test_unit} can be converted to {final_value} {final_unit}. The conversion factor is {conversion_measures_dict[dict_key]}.\")\n",
    "        \n",
    "    elif dict_key_reverse in conversion_measures_dict.keys(): # If the test and final units exist in the dictionary, proceed\n",
    "        try: # Try to perform the calculation and see if there's an error\n",
    "            # Calculate the converted units. The conversion factors in our list are strings, so change them to floats.\n",
    "            # eval() is used to allow fractions to be converted to floats.\n",
    "            final_value = round(float(eval(conversion_measures_dict[dict_key_reverse])) / test_value, 2)\n",
    "        except TypeError: # If the test_value is a string, convert it to float and re-calculate\n",
    "            test_value = float(test_value)\n",
    "            print(\"Do not input numbers as strings! Be careful!\\n\")\n",
    "            # Calculate the converted units. The conversion factors in our list are strings, so change them to floats.\n",
    "            # eval() is used to allow fractions to be converted to floats.\n",
    "            final_value = round(float(eval(conversion_measures_dict[dict_key_reverse])) / test_value, 2)\n",
    "        \n",
    "        return print(f\"{test_value} {test_unit} can be converted to {final_value} {final_unit}. The conversion factor is {conversion_measures_dict[dict_key_reverse]}.\")\n",
    "    else: # If the test and final units do not exist in the dictionary, notify the user\n",
    "        return print(\"The units you asked for are not available in this database.\")"
   ]
  },
  {
   "cell_type": "code",
   "execution_count": 678,
   "id": "baf769ec-2c36-46d3-8f2e-fd502f3100ce",
   "metadata": {},
   "outputs": [
    {
     "name": "stdout",
     "output_type": "stream",
     "text": [
      "8.4 ergs can be converted to 12.74 joule. The conversion factor is 107.\n"
     ]
    }
   ],
   "source": [
    "Unit_Converter_Bidirectional(\"ergs\", 8.4, \"joule\")"
   ]
  },
  {
   "cell_type": "code",
   "execution_count": 682,
   "id": "f4186aa3-93cf-4071-821a-63c6df41414e",
   "metadata": {},
   "outputs": [
    {
     "name": "stdout",
     "output_type": "stream",
     "text": [
      "3 tablespoons can be converted to 0.75 cup. The conversion factor is 1/4.\n"
     ]
    }
   ],
   "source": [
    "Unit_Converter_Bidirectional(\"tablespoons\", 3, \"cup\")"
   ]
  },
  {
   "cell_type": "markdown",
   "id": "27a24c88-9cd3-4805-8024-a4f0d594cc0e",
   "metadata": {},
   "source": [
    "3.\t**Advanced Challenge**: there’s a function called `input()` that can collect data from the user of your code in real time.\n",
    "- Here’s a [link](https://datatofish.com/input-function-python/) to a website that works through the `input()` function (top half of the page only – stop before the Tkinter section).\n",
    "- Try to use the `input()` function to collect the `test_unit`, `test_value`, and `final_unit` values."
   ]
  },
  {
   "cell_type": "code",
   "execution_count": 660,
   "id": "a34b3a70-56ae-4cfe-970d-018872ea13b4",
   "metadata": {},
   "outputs": [],
   "source": [
    "# My solution\n",
    "\n",
    "conversion_measures_list = [] # A list containing the entries of the conversion measures\n",
    "conversion_measures_dict = {} # A dictionary to store the data.\n",
    "\n",
    "def Unit_Converter_Bidirectional_with_Input():\n",
    "    with open(conversion_measures, \"r\") as f: # Open the file\n",
    "        conversion_measures_list = f.read().split(\"\\n\") # Store the conversion entries (lines) into a list\n",
    "        for entry in conversion_measures_list: # For each entry (line)\n",
    "            entry = entry.replace(\" \", \"-\").lower() # Replace whitespaces with dashes to avoid problems when using them as dictionary keys. Convert to lowercase.\n",
    "            element_list = entry.split(\",\") # Split each entry to a list of elements with a comma delimiter\n",
    "            dict_key = element_list[0] + \"_\" + element_list[2] # Define the dictionary key as a string concatenation between the test and final unit\n",
    "            conversion_measures_dict[dict_key] = element_list[1] # The dictionary value will be the test_value\n",
    "        \n",
    "    # Inputs from user\n",
    "    print('Enter the units you want to convert:')\n",
    "    test_unit = input()\n",
    "    print('Enter the number you want to convert:')\n",
    "    test_value = input()\n",
    "    print('Enter the desired units:')\n",
    "    final_unit = input()\n",
    "    \n",
    "    # Perform the unit conversion\n",
    "    test_unit = test_unit.replace(\" \", \"_\").lower() # Replace whitespaces with underscores and make letters lowercase to compare with dictionary keys\n",
    "    final_unit = final_unit.replace(\" \", \"_\").lower() # Replace whitespaces with underscores and make letters lowercase to compare with dictionary keys\n",
    "    dict_key = test_unit + \"_\" + final_unit # Define the dictionary key as a string concatenation between the test and final unit\n",
    "    dict_key_reverse = final_unit + \"_\" + test_unit # Define the reverse dictionary key as well\n",
    "\n",
    "    if dict_key in conversion_measures_dict.keys(): # If the test and final units exist in the dictionary, proceed\n",
    "        try: # Try to perform the calculation and see if there's an error\n",
    "            # Calculate the converted units. The conversion factors in our list are strings, so change them to floats.\n",
    "            # eval() is used to allow fractions to be converted to floats.\n",
    "            final_value = round(float(eval(conversion_measures_dict[dict_key])) * test_value, 2)\n",
    "        except TypeError: # If the test_value is a string, convert it to float and re-calculate\n",
    "            test_value = float(test_value)\n",
    "            print(\"Do not input numbers as strings! Be careful!\\n\")\n",
    "            # Calculate the converted units. The conversion factors in our list are strings, so change them to floats.\n",
    "            # eval() is used to allow fractions to be converted to floats.\n",
    "            final_value = round(float(eval(conversion_measures_dict[dict_key])) * test_value, 2)\n",
    "        \n",
    "        return print(f\"{test_value} {test_unit} can be converted to {final_value} {final_unit}. The conversion factor is {conversion_measures_dict[dict_key]}.\")\n",
    "        \n",
    "    elif dict_key_reverse in conversion_measures_dict.keys(): # If the test and final units exist in the dictionary, proceed\n",
    "        try: # Try to perform the calculation and see if there's an error\n",
    "            # Calculate the converted units. The conversion factors in our list are strings, so change them to floats.\n",
    "            # eval() is used to allow fractions to be converted to floats.\n",
    "            final_value = round(float(eval(conversion_measures_dict[dict_key_reverse])) / test_value, 2)\n",
    "        except TypeError: # If the test_value is a string, convert it to float and re-calculate\n",
    "            test_value = float(test_value)\n",
    "            print(\"Do not input numbers as strings! Be careful!\\n\")\n",
    "            # Calculate the converted units. The conversion factors in our list are strings, so change them to floats.\n",
    "            # eval() is used to allow fractions to be converted to floats.\n",
    "            final_value = round(float(eval(conversion_measures_dict[dict_key_reverse])) / test_value, 2)\n",
    "        \n",
    "        return print(f\"{test_value} {test_unit} can be converted to {final_value} {final_unit}. The conversion factor is {conversion_measures_dict[dict_key_reverse]}.\")\n",
    "    else: # If the test and final units do not exist in the dictionary, notify the user\n",
    "        return print(\"The units you asked for are not available in this database.\")"
   ]
  },
  {
   "cell_type": "markdown",
   "id": "8677a579-63b5-48cf-a07d-b2a204a332bf",
   "metadata": {},
   "source": [
    "### Test samples\n",
    "\n",
    "Let's check that it works with all the previous test samples:\n",
    "\n",
    "```python\n",
    "test_unit = \"pint\"\n",
    "test_value = 2.5\n",
    "final_unit = \"mL\"\n",
    "\n",
    "test_unit = \"cubic foot\"\n",
    "test_value = 30\n",
    "final_unit = \"liter\"\n",
    "\n",
    "test_unit = \"slug\"\n",
    "test_value = \"4.8\"\n",
    "final_unit = \"pound\"\n",
    "\n",
    "test_unit = \"slug\"\n",
    "test_value = 27.0\n",
    "final_unit = \"snail\"\n",
    "\n",
    "test_unit = \"ergs\"\n",
    "test_value = 8.4\n",
    "final_unit = \"joule\"\n",
    "\n",
    "test_unit = \"tablespoons\"\n",
    "test_value = 3\n",
    "final_unit = \"cup\"\n",
    "```"
   ]
  },
  {
   "cell_type": "code",
   "execution_count": 699,
   "id": "cd93b0fc-0e65-4f15-9e4e-3d6bf121c84f",
   "metadata": {},
   "outputs": [
    {
     "name": "stdout",
     "output_type": "stream",
     "text": [
      "Enter the units you want to convert:\n"
     ]
    },
    {
     "name": "stdin",
     "output_type": "stream",
     "text": [
      " tablespoons\n"
     ]
    },
    {
     "name": "stdout",
     "output_type": "stream",
     "text": [
      "Enter the number you want to convert:\n"
     ]
    },
    {
     "name": "stdin",
     "output_type": "stream",
     "text": [
      " 3\n"
     ]
    },
    {
     "name": "stdout",
     "output_type": "stream",
     "text": [
      "Enter the desired units:\n"
     ]
    },
    {
     "name": "stdin",
     "output_type": "stream",
     "text": [
      " cup\n"
     ]
    },
    {
     "name": "stdout",
     "output_type": "stream",
     "text": [
      "Do not input numbers as strings! Be careful!\n",
      "\n",
      "3.0 tablespoons can be converted to 0.75 cup. The conversion factor is 1/4.\n"
     ]
    }
   ],
   "source": [
    "Unit_Converter_Bidirectional_with_Input()"
   ]
  },
  {
   "cell_type": "markdown",
   "id": "520aff9c-a66b-4741-9ca2-ebb121d991e2",
   "metadata": {},
   "source": [
    "**NOTE**: When using the `input()` function, [all inputs get converted to **strings**!](https://www.geeksforgeeks.org/taking-input-in-python/)"
   ]
  }
 ],
 "metadata": {
  "kernelspec": {
   "display_name": "Python 3 (ipykernel)",
   "language": "python",
   "name": "python3"
  },
  "language_info": {
   "codemirror_mode": {
    "name": "ipython",
    "version": 3
   },
   "file_extension": ".py",
   "mimetype": "text/x-python",
   "name": "python",
   "nbconvert_exporter": "python",
   "pygments_lexer": "ipython3",
   "version": "3.11.7"
  }
 },
 "nbformat": 4,
 "nbformat_minor": 5
}
