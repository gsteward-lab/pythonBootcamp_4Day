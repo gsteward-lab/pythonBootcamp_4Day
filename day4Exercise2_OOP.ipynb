{
 "cells": [
  {
   "cell_type": "markdown",
   "metadata": {},
   "source": [
    "## Day 4 - Exercise 2"
   ]
  },
  {
   "cell_type": "markdown",
   "metadata": {},
   "source": [
    "We will build on this morning exercise on unit conversion. Your task is to re-write the solution using the Object Oriented Programming paradigm.\n",
    "\n",
    "To do this, think about the different steps in our solution. Reformulate them as classes with their corresponding methods and properties. Then bring them all together to accomplish what you want!"
   ]
  },
  {
   "cell_type": "markdown",
   "metadata": {},
   "source": [
    "I've copied a version of the solutions below so you can easily refer to them. They look like code but they are actually in a markdown cell so you don't run it by accident."
   ]
  },
  {
   "cell_type": "code",
   "execution_count": 1,
   "metadata": {},
   "outputs": [],
   "source": [
    "# This is actually a code cell\n",
    "i_am_using_colab = 0                # <-- Change this to 1 if you are using Colab\n",
    "if i_am_using_colab:\n",
    "    !wget https://raw.githubusercontent.com/nuitrcs/pythonBootcamp_4Day/main/conversionMeasures.csv"
   ]
  },
  {
   "cell_type": "markdown",
   "metadata": {},
   "source": [
    "### Loading and cleaning data stage"
   ]
  },
  {
   "cell_type": "markdown",
   "metadata": {},
   "source": [
    "```python\n",
    "# First we load the file, and make a list where each element is a line from the file\n",
    "file_name = 'conversionMeasures.csv'\n",
    "with open(file_name, 'r') as f:\n",
    "    raw_data = f.readlines()\n",
    "\n",
    "# Then we create a new list, where each element is a smaller list:\n",
    "conversion_data = []\n",
    "for line in raw_data:\n",
    "    conversion_data.append(line.rstrip(\"\\n\").split(\",\"))\n",
    "```"
   ]
  },
  {
   "cell_type": "markdown",
   "metadata": {},
   "source": [
    "### Converter"
   ]
  },
  {
   "cell_type": "markdown",
   "metadata": {},
   "source": [
    "```python\n",
    "def converter(v, unit_1, unit_2):\n",
    "    # Step 1: Check if input types are valid:\n",
    "    if type(v) != int or type(v) != float:\n",
    "        try:\n",
    "            v = float(v)\n",
    "        except TypeError:\n",
    "            print(f'The value you are trying to convert must be an integer or a float, not a {type(v).__name__}')\n",
    "            return\n",
    "    if type(unit_1) != str or type(unit_2) != str:\n",
    "        print(\"Your units must be strings. Get it together plz.\")\n",
    "        return\n",
    "        \n",
    "    # Step 2: Join strings that are separated\n",
    "    unit_1 = \"_\".join(unit_1.lower().split(\" \")) \n",
    "    unit_2 = \"_\".join(unit_2.lower().split(\" \"))\n",
    "    \n",
    "    # Step 3: Run the for loop we had before, to find the unit conversion\n",
    "    for i in conversion_data:\n",
    "        try:\n",
    "            c = float(i[1])\n",
    "        except ValueError:\n",
    "            c1, c2 = i[1].split(\"/\")\n",
    "            c = float(c1) / float(c2)\n",
    "        if i[0].lower() == unit_1 and i[2].lower() == unit_2:\n",
    "            new_value = v * c\n",
    "            print(f'I got it! Your value of {v} {unit_1} is the same as {new_value} {unit_2}')\n",
    "            return\n",
    "        elif i[2].lower() == unit_1 and i[0].lower() == unit_2:\n",
    "            new_value = v / c\n",
    "            print(f'I got it! Your value of {v} {unit_1} is the same as {new_value} {unit_2}')\n",
    "            return\n",
    "            \n",
    "    # Step 4: No conversion found\n",
    "    print(\"I don't know this conversion. Sooooooorry!\")\n",
    "    return\n",
    "````"
   ]
  },
  {
   "cell_type": "markdown",
   "metadata": {},
   "source": [
    "### Testing"
   ]
  },
  {
   "cell_type": "markdown",
   "metadata": {},
   "source": [
    "```python\n",
    "# Step 1. Put the test cases in a list of dictionaries:\n",
    "test_cases = [{\"test_unit\":   \"pint\",        \"test_value\": 2.5,   \"final_unit\": \"mL\"},\n",
    "                {\"test_unit\": \"cubic foot\",  \"test_value\": 30,    \"final_unit\": \"liter\"},\n",
    "                {\"test_unit\": \"slug\",        \"test_value\": \"4.8\", \"final_unit\": \"pound\"},\n",
    "                {\"test_unit\": \"slug\",        \"test_value\": 27.0,  \"final_unit\": \"snail\"},\n",
    "                {\"test_unit\": [],            \"test_value\": 2.5,   \"final_unit\": \"meter\"},\n",
    "                {\"test_unit\": \"kilometer\",   \"test_value\": [],    \"final_unit\": \"meter\"},\n",
    "                {\"test_unit\": \"KM/H\",        \"test_value\": 8.4,   \"final_unit\": \"m/Sec\"},\n",
    "                {\"test_unit\": \"ergs\",        \"test_value\": 8.4,   \"final_unit\": \"joule\"},\n",
    "                {\"test_unit\": \"tablespoons\", \"test_value\": 2,     \"final_unit\": \"cup\"}\n",
    "]\n",
    "````"
   ]
  },
  {
   "cell_type": "markdown",
   "metadata": {},
   "source": [
    "```python\n",
    "# Step 2. Create a function that checks our converter for all tests\n",
    "def test_checker(f_converter, test_cases):\n",
    "    n_case = 0\n",
    "    for test in test_cases:\n",
    "        try:\n",
    "            f_converter(test[\"test_value\"], test[\"test_unit\"], test[\"final_unit\"])\n",
    "            print(f\"(Test case number {n_case} passed)\\n\")\n",
    "        except (TypeError, ValueError):\n",
    "            print(f\"(Test case number {n_case} failed)\\n\")\n",
    "        n_case = n_case + 1\n",
    "    return\n",
    "```"
   ]
  },
  {
   "cell_type": "markdown",
   "metadata": {},
   "source": [
    "### User Input"
   ]
  },
  {
   "cell_type": "markdown",
   "metadata": {},
   "source": [
    "```python\n",
    "def chat_bot_converter(f_converter):\n",
    "    max_tries = 3\n",
    "    tries = 0\n",
    "    valid = 0\n",
    "    while tries < max_tries:\n",
    "        tries = tries + 1\n",
    "        v = input(\"Please provide the value you want to convert -->\")\n",
    "        if type(v) != int or type(v) != float:\n",
    "            try:\n",
    "                v = float(v)\n",
    "                valid = 1\n",
    "                break\n",
    "            except (TypeError, ValueError):\n",
    "                if tries < max_tries:\n",
    "                    print(\"Not a valid value. Your value must be an integer or a float, try again!\")\n",
    "                else:\n",
    "                    print(\"I'm giving up\")\n",
    "                \n",
    "    if valid:\n",
    "        u1 = input(\"Please provide the original unit -->\")\n",
    "        u2 = input(\"Please provide the unit you want to convert to -->\")\n",
    "        f_converter(v, u1, u2)\n",
    "    return\n",
    "````"
   ]
  }
 ],
 "metadata": {
  "kernelspec": {
   "display_name": "base",
   "language": "python",
   "name": "python3"
  },
  "language_info": {
   "codemirror_mode": {
    "name": "ipython",
    "version": 3
   },
   "file_extension": ".py",
   "mimetype": "text/x-python",
   "name": "python",
   "nbconvert_exporter": "python",
   "pygments_lexer": "ipython3",
   "version": "3.11.5"
  }
 },
 "nbformat": 4,
 "nbformat_minor": 2
}
